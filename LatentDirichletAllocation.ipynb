{
  "nbformat": 4,
  "nbformat_minor": 0,
  "metadata": {
    "colab": {
      "provenance": [],
      "include_colab_link": true
    },
    "kernelspec": {
      "name": "python3",
      "display_name": "Python 3"
    },
    "language_info": {
      "name": "python"
    }
  },
  "cells": [
    {
      "cell_type": "markdown",
      "metadata": {
        "id": "view-in-github",
        "colab_type": "text"
      },
      "source": [
        "<a href=\"https://colab.research.google.com/github/mariellabanez/mariellabanez/blob/main/LatentDirichletAllocation.ipynb\" target=\"_parent\"><img src=\"https://colab.research.google.com/assets/colab-badge.svg\" alt=\"Open In Colab\"/></a>"
      ]
    },
    {
      "cell_type": "markdown",
      "source": [
        "<h2>INSTALLATION"
      ],
      "metadata": {
        "id": "IY8BSUOuavh0"
      }
    },
    {
      "cell_type": "code",
      "source": [
        "!python -m spacy download en_core_web_sm"
      ],
      "metadata": {
        "colab": {
          "base_uri": "https://localhost:8080/"
        },
        "id": "4Rah3DGlWmPR",
        "outputId": "6a331930-b6cc-46bc-c051-82a9d169d9d0"
      },
      "execution_count": null,
      "outputs": [
        {
          "output_type": "stream",
          "name": "stdout",
          "text": [
            "2023-10-24 01:52:55.584965: E tensorflow/compiler/xla/stream_executor/cuda/cuda_dnn.cc:9342] Unable to register cuDNN factory: Attempting to register factory for plugin cuDNN when one has already been registered\n",
            "2023-10-24 01:52:55.585058: E tensorflow/compiler/xla/stream_executor/cuda/cuda_fft.cc:609] Unable to register cuFFT factory: Attempting to register factory for plugin cuFFT when one has already been registered\n",
            "2023-10-24 01:52:55.585097: E tensorflow/compiler/xla/stream_executor/cuda/cuda_blas.cc:1518] Unable to register cuBLAS factory: Attempting to register factory for plugin cuBLAS when one has already been registered\n",
            "2023-10-24 01:52:55.595662: I tensorflow/core/platform/cpu_feature_guard.cc:182] This TensorFlow binary is optimized to use available CPU instructions in performance-critical operations.\n",
            "To enable the following instructions: AVX2 FMA, in other operations, rebuild TensorFlow with the appropriate compiler flags.\n",
            "2023-10-24 01:52:56.910767: W tensorflow/compiler/tf2tensorrt/utils/py_utils.cc:38] TF-TRT Warning: Could not find TensorRT\n",
            "Collecting en-core-web-sm==3.6.0\n",
            "  Downloading https://github.com/explosion/spacy-models/releases/download/en_core_web_sm-3.6.0/en_core_web_sm-3.6.0-py3-none-any.whl (12.8 MB)\n",
            "\u001b[2K     \u001b[90m━━━━━━━━━━━━━━━━━━━━━━━━━━━━━━━━━━━━━━━━\u001b[0m \u001b[32m12.8/12.8 MB\u001b[0m \u001b[31m65.2 MB/s\u001b[0m eta \u001b[36m0:00:00\u001b[0m\n",
            "\u001b[?25hRequirement already satisfied: spacy<3.7.0,>=3.6.0 in /usr/local/lib/python3.10/dist-packages (from en-core-web-sm==3.6.0) (3.6.1)\n",
            "Requirement already satisfied: spacy-legacy<3.1.0,>=3.0.11 in /usr/local/lib/python3.10/dist-packages (from spacy<3.7.0,>=3.6.0->en-core-web-sm==3.6.0) (3.0.12)\n",
            "Requirement already satisfied: spacy-loggers<2.0.0,>=1.0.0 in /usr/local/lib/python3.10/dist-packages (from spacy<3.7.0,>=3.6.0->en-core-web-sm==3.6.0) (1.0.5)\n",
            "Requirement already satisfied: murmurhash<1.1.0,>=0.28.0 in /usr/local/lib/python3.10/dist-packages (from spacy<3.7.0,>=3.6.0->en-core-web-sm==3.6.0) (1.0.10)\n",
            "Requirement already satisfied: cymem<2.1.0,>=2.0.2 in /usr/local/lib/python3.10/dist-packages (from spacy<3.7.0,>=3.6.0->en-core-web-sm==3.6.0) (2.0.8)\n",
            "Requirement already satisfied: preshed<3.1.0,>=3.0.2 in /usr/local/lib/python3.10/dist-packages (from spacy<3.7.0,>=3.6.0->en-core-web-sm==3.6.0) (3.0.9)\n",
            "Requirement already satisfied: thinc<8.2.0,>=8.1.8 in /usr/local/lib/python3.10/dist-packages (from spacy<3.7.0,>=3.6.0->en-core-web-sm==3.6.0) (8.1.12)\n",
            "Requirement already satisfied: wasabi<1.2.0,>=0.9.1 in /usr/local/lib/python3.10/dist-packages (from spacy<3.7.0,>=3.6.0->en-core-web-sm==3.6.0) (1.1.2)\n",
            "Requirement already satisfied: srsly<3.0.0,>=2.4.3 in /usr/local/lib/python3.10/dist-packages (from spacy<3.7.0,>=3.6.0->en-core-web-sm==3.6.0) (2.4.8)\n",
            "Requirement already satisfied: catalogue<2.1.0,>=2.0.6 in /usr/local/lib/python3.10/dist-packages (from spacy<3.7.0,>=3.6.0->en-core-web-sm==3.6.0) (2.0.10)\n",
            "Requirement already satisfied: typer<0.10.0,>=0.3.0 in /usr/local/lib/python3.10/dist-packages (from spacy<3.7.0,>=3.6.0->en-core-web-sm==3.6.0) (0.9.0)\n",
            "Requirement already satisfied: pathy>=0.10.0 in /usr/local/lib/python3.10/dist-packages (from spacy<3.7.0,>=3.6.0->en-core-web-sm==3.6.0) (0.10.2)\n",
            "Requirement already satisfied: smart-open<7.0.0,>=5.2.1 in /usr/local/lib/python3.10/dist-packages (from spacy<3.7.0,>=3.6.0->en-core-web-sm==3.6.0) (6.4.0)\n",
            "Requirement already satisfied: tqdm<5.0.0,>=4.38.0 in /usr/local/lib/python3.10/dist-packages (from spacy<3.7.0,>=3.6.0->en-core-web-sm==3.6.0) (4.66.1)\n",
            "Requirement already satisfied: numpy>=1.15.0 in /usr/local/lib/python3.10/dist-packages (from spacy<3.7.0,>=3.6.0->en-core-web-sm==3.6.0) (1.23.5)\n",
            "Requirement already satisfied: requests<3.0.0,>=2.13.0 in /usr/local/lib/python3.10/dist-packages (from spacy<3.7.0,>=3.6.0->en-core-web-sm==3.6.0) (2.31.0)\n",
            "Requirement already satisfied: pydantic!=1.8,!=1.8.1,<3.0.0,>=1.7.4 in /usr/local/lib/python3.10/dist-packages (from spacy<3.7.0,>=3.6.0->en-core-web-sm==3.6.0) (1.10.13)\n",
            "Requirement already satisfied: jinja2 in /usr/local/lib/python3.10/dist-packages (from spacy<3.7.0,>=3.6.0->en-core-web-sm==3.6.0) (3.1.2)\n",
            "Requirement already satisfied: setuptools in /usr/local/lib/python3.10/dist-packages (from spacy<3.7.0,>=3.6.0->en-core-web-sm==3.6.0) (67.7.2)\n",
            "Requirement already satisfied: packaging>=20.0 in /usr/local/lib/python3.10/dist-packages (from spacy<3.7.0,>=3.6.0->en-core-web-sm==3.6.0) (23.2)\n",
            "Requirement already satisfied: langcodes<4.0.0,>=3.2.0 in /usr/local/lib/python3.10/dist-packages (from spacy<3.7.0,>=3.6.0->en-core-web-sm==3.6.0) (3.3.0)\n",
            "Requirement already satisfied: typing-extensions>=4.2.0 in /usr/local/lib/python3.10/dist-packages (from pydantic!=1.8,!=1.8.1,<3.0.0,>=1.7.4->spacy<3.7.0,>=3.6.0->en-core-web-sm==3.6.0) (4.5.0)\n",
            "Requirement already satisfied: charset-normalizer<4,>=2 in /usr/local/lib/python3.10/dist-packages (from requests<3.0.0,>=2.13.0->spacy<3.7.0,>=3.6.0->en-core-web-sm==3.6.0) (3.3.0)\n",
            "Requirement already satisfied: idna<4,>=2.5 in /usr/local/lib/python3.10/dist-packages (from requests<3.0.0,>=2.13.0->spacy<3.7.0,>=3.6.0->en-core-web-sm==3.6.0) (3.4)\n",
            "Requirement already satisfied: urllib3<3,>=1.21.1 in /usr/local/lib/python3.10/dist-packages (from requests<3.0.0,>=2.13.0->spacy<3.7.0,>=3.6.0->en-core-web-sm==3.6.0) (2.0.7)\n",
            "Requirement already satisfied: certifi>=2017.4.17 in /usr/local/lib/python3.10/dist-packages (from requests<3.0.0,>=2.13.0->spacy<3.7.0,>=3.6.0->en-core-web-sm==3.6.0) (2023.7.22)\n",
            "Requirement already satisfied: blis<0.8.0,>=0.7.8 in /usr/local/lib/python3.10/dist-packages (from thinc<8.2.0,>=8.1.8->spacy<3.7.0,>=3.6.0->en-core-web-sm==3.6.0) (0.7.11)\n",
            "Requirement already satisfied: confection<1.0.0,>=0.0.1 in /usr/local/lib/python3.10/dist-packages (from thinc<8.2.0,>=8.1.8->spacy<3.7.0,>=3.6.0->en-core-web-sm==3.6.0) (0.1.3)\n",
            "Requirement already satisfied: click<9.0.0,>=7.1.1 in /usr/local/lib/python3.10/dist-packages (from typer<0.10.0,>=0.3.0->spacy<3.7.0,>=3.6.0->en-core-web-sm==3.6.0) (8.1.7)\n",
            "Requirement already satisfied: MarkupSafe>=2.0 in /usr/local/lib/python3.10/dist-packages (from jinja2->spacy<3.7.0,>=3.6.0->en-core-web-sm==3.6.0) (2.1.3)\n",
            "\u001b[38;5;2m✔ Download and installation successful\u001b[0m\n",
            "You can now load the package via spacy.load('en_core_web_sm')\n"
          ]
        }
      ]
    },
    {
      "cell_type": "code",
      "source": [
        "pip install funcy"
      ],
      "metadata": {
        "id": "zCrjdSkIpqMF",
        "colab": {
          "base_uri": "https://localhost:8080/"
        },
        "outputId": "d38a86ff-b6a4-405d-edd1-8a9b75bdfac9"
      },
      "execution_count": null,
      "outputs": [
        {
          "output_type": "stream",
          "name": "stdout",
          "text": [
            "Collecting funcy\n",
            "  Downloading funcy-2.0-py2.py3-none-any.whl (30 kB)\n",
            "Installing collected packages: funcy\n",
            "Successfully installed funcy-2.0\n"
          ]
        }
      ]
    },
    {
      "cell_type": "code",
      "source": [
        "pip install tzdata"
      ],
      "metadata": {
        "id": "J1rzZTfPpq_F",
        "colab": {
          "base_uri": "https://localhost:8080/"
        },
        "outputId": "2e3858ce-04ce-43cd-d21b-02c620dee850"
      },
      "execution_count": null,
      "outputs": [
        {
          "output_type": "stream",
          "name": "stdout",
          "text": [
            "Collecting tzdata\n",
            "  Downloading tzdata-2023.3-py2.py3-none-any.whl (341 kB)\n",
            "\u001b[?25l     \u001b[90m━━━━━━━━━━━━━━━━━━━━━━━━━━━━━━━━━━━━━━━━\u001b[0m \u001b[32m0.0/341.8 kB\u001b[0m \u001b[31m?\u001b[0m eta \u001b[36m-:--:--\u001b[0m\r\u001b[2K     \u001b[91m━━━━━━━━━━━━━━\u001b[0m\u001b[90m╺\u001b[0m\u001b[90m━━━━━━━━━━━━━━━━━━━━━━━━━\u001b[0m \u001b[32m122.9/341.8 kB\u001b[0m \u001b[31m3.5 MB/s\u001b[0m eta \u001b[36m0:00:01\u001b[0m\r\u001b[2K     \u001b[90m━━━━━━━━━━━━━━━━━━━━━━━━━━━━━━━━━━━━━━━━\u001b[0m \u001b[32m341.8/341.8 kB\u001b[0m \u001b[31m5.8 MB/s\u001b[0m eta \u001b[36m0:00:00\u001b[0m\n",
            "\u001b[?25hInstalling collected packages: tzdata\n",
            "Successfully installed tzdata-2023.3\n"
          ]
        }
      ]
    },
    {
      "cell_type": "code",
      "source": [
        "pip install --no-deps pyLDAvis"
      ],
      "metadata": {
        "colab": {
          "base_uri": "https://localhost:8080/"
        },
        "id": "BQoImpZZufsD",
        "outputId": "64938f69-69bd-462a-9bde-1ccbb3fee3c4"
      },
      "execution_count": null,
      "outputs": [
        {
          "output_type": "stream",
          "name": "stdout",
          "text": [
            "Collecting pyLDAvis\n",
            "  Downloading pyLDAvis-3.4.1-py3-none-any.whl (2.6 MB)\n",
            "\u001b[2K     \u001b[90m━━━━━━━━━━━━━━━━━━━━━━━━━━━━━━━━━━━━━━━━\u001b[0m \u001b[32m2.6/2.6 MB\u001b[0m \u001b[31m23.2 MB/s\u001b[0m eta \u001b[36m0:00:00\u001b[0m\n",
            "\u001b[?25hInstalling collected packages: pyLDAvis\n",
            "Successfully installed pyLDAvis-3.4.1\n"
          ]
        }
      ]
    },
    {
      "cell_type": "code",
      "source": [
        "!pip install pandas==1.5.3"
      ],
      "metadata": {
        "colab": {
          "base_uri": "https://localhost:8080/"
        },
        "id": "_zxXljgOyj-U",
        "outputId": "dd0c20c3-a894-4000-f954-f2044492e806"
      },
      "execution_count": null,
      "outputs": [
        {
          "output_type": "stream",
          "name": "stdout",
          "text": [
            "Requirement already satisfied: pandas==1.5.3 in /usr/local/lib/python3.10/dist-packages (1.5.3)\n",
            "Requirement already satisfied: python-dateutil>=2.8.1 in /usr/local/lib/python3.10/dist-packages (from pandas==1.5.3) (2.8.2)\n",
            "Requirement already satisfied: pytz>=2020.1 in /usr/local/lib/python3.10/dist-packages (from pandas==1.5.3) (2023.3.post1)\n",
            "Requirement already satisfied: numpy>=1.21.0 in /usr/local/lib/python3.10/dist-packages (from pandas==1.5.3) (1.23.5)\n",
            "Requirement already satisfied: six>=1.5 in /usr/local/lib/python3.10/dist-packages (from python-dateutil>=2.8.1->pandas==1.5.3) (1.16.0)\n"
          ]
        }
      ]
    },
    {
      "cell_type": "markdown",
      "source": [
        "<h2>IMPORT LIBRARIES"
      ],
      "metadata": {
        "id": "3htlFDNqazc_"
      }
    },
    {
      "cell_type": "code",
      "source": [
        "import pandas as pd\n",
        "import pandas.core.indexes.numeric\n",
        "import os\n",
        "import spacy\n",
        "import re\n",
        "import gensim\n",
        "from gensim.utils import simple_preprocess\n",
        "from wordcloud import WordCloud # Import the wordcloud library\n",
        "# NLTK Stop words\n",
        "import nltk\n",
        "nltk.download('stopwords')\n",
        "from nltk.corpus import stopwords\n",
        "import gensim.corpora as corpora\n",
        "from gensim.models import CoherenceModel\n",
        "from pprint import pprint\n",
        "#visualization\n",
        "import pyLDAvis\n",
        "import pyLDAvis.gensim\n",
        "import matplotlib.pyplot as plt\n",
        "import seaborn as sns\n",
        "%matplotlib inline"
      ],
      "metadata": {
        "colab": {
          "base_uri": "https://localhost:8080/"
        },
        "id": "i-2gqr5jUuOi",
        "outputId": "c2e3906f-7568-42a7-d10d-f4807d32d74e"
      },
      "execution_count": null,
      "outputs": [
        {
          "output_type": "stream",
          "name": "stderr",
          "text": [
            "[nltk_data] Downloading package stopwords to /root/nltk_data...\n",
            "[nltk_data]   Unzipping corpora/stopwords.zip.\n"
          ]
        }
      ]
    },
    {
      "cell_type": "markdown",
      "source": [
        "<h2>IMPORT CSV FILE"
      ],
      "metadata": {
        "id": "WlIxjRFEa1Mx"
      }
    },
    {
      "cell_type": "code",
      "source": [
        "df = pd.read_csv('/content/maharlika - maharlika.csv')"
      ],
      "metadata": {
        "id": "M8XiZp6wUu5z",
        "colab": {
          "base_uri": "https://localhost:8080/"
        },
        "outputId": "83ce2a90-60e5-4a27-adb5-3e7e4a9bef96"
      },
      "execution_count": null,
      "outputs": [
        {
          "output_type": "stream",
          "name": "stderr",
          "text": [
            "/usr/local/lib/python3.10/dist-packages/ipykernel/ipkernel.py:283: DeprecationWarning: `should_run_async` will not call `transform_cell` automatically in the future. Please pass the result to `transformed_cell` argument and any exception that happen during thetransform in `preprocessing_exc_tuple` in IPython 7.17 and above.\n",
            "  and should_run_async(code)\n"
          ]
        }
      ]
    },
    {
      "cell_type": "code",
      "source": [
        "df.head()"
      ],
      "metadata": {
        "colab": {
          "base_uri": "https://localhost:8080/",
          "height": 261
        },
        "id": "CaFip9dwU2RG",
        "outputId": "e3b7621e-1b0c-4b41-ba01-8228453ab782"
      },
      "execution_count": null,
      "outputs": [
        {
          "output_type": "stream",
          "name": "stderr",
          "text": [
            "/usr/local/lib/python3.10/dist-packages/ipykernel/ipkernel.py:283: DeprecationWarning: `should_run_async` will not call `transform_cell` automatically in the future. Please pass the result to `transformed_cell` argument and any exception that happen during thetransform in `preprocessing_exc_tuple` in IPython 7.17 and above.\n",
            "  and should_run_async(code)\n"
          ]
        },
        {
          "output_type": "execute_result",
          "data": {
            "text/plain": [
              "                                               Title\n",
              "0  Marcos Suspends Philippine Wealth Fund Pending...\n",
              "1  Nope, Maharlika fund IRR suspension isnt due t...\n",
              "2  Marcos Jr. suspends Maharlika Investment Funds...\n",
              "3  Maharlika fund implementation suspended for fu...\n",
              "4  Marcos suspends Maharlika fund implementation ..."
            ],
            "text/html": [
              "\n",
              "  <div id=\"df-c85948c0-4746-4859-9480-b21302f481d3\" class=\"colab-df-container\">\n",
              "    <div>\n",
              "<style scoped>\n",
              "    .dataframe tbody tr th:only-of-type {\n",
              "        vertical-align: middle;\n",
              "    }\n",
              "\n",
              "    .dataframe tbody tr th {\n",
              "        vertical-align: top;\n",
              "    }\n",
              "\n",
              "    .dataframe thead th {\n",
              "        text-align: right;\n",
              "    }\n",
              "</style>\n",
              "<table border=\"1\" class=\"dataframe\">\n",
              "  <thead>\n",
              "    <tr style=\"text-align: right;\">\n",
              "      <th></th>\n",
              "      <th>Title</th>\n",
              "    </tr>\n",
              "  </thead>\n",
              "  <tbody>\n",
              "    <tr>\n",
              "      <th>0</th>\n",
              "      <td>Marcos Suspends Philippine Wealth Fund Pending...</td>\n",
              "    </tr>\n",
              "    <tr>\n",
              "      <th>1</th>\n",
              "      <td>Nope, Maharlika fund IRR suspension isnt due t...</td>\n",
              "    </tr>\n",
              "    <tr>\n",
              "      <th>2</th>\n",
              "      <td>Marcos Jr. suspends Maharlika Investment Funds...</td>\n",
              "    </tr>\n",
              "    <tr>\n",
              "      <th>3</th>\n",
              "      <td>Maharlika fund implementation suspended for fu...</td>\n",
              "    </tr>\n",
              "    <tr>\n",
              "      <th>4</th>\n",
              "      <td>Marcos suspends Maharlika fund implementation ...</td>\n",
              "    </tr>\n",
              "  </tbody>\n",
              "</table>\n",
              "</div>\n",
              "    <div class=\"colab-df-buttons\">\n",
              "\n",
              "  <div class=\"colab-df-container\">\n",
              "    <button class=\"colab-df-convert\" onclick=\"convertToInteractive('df-c85948c0-4746-4859-9480-b21302f481d3')\"\n",
              "            title=\"Convert this dataframe to an interactive table.\"\n",
              "            style=\"display:none;\">\n",
              "\n",
              "  <svg xmlns=\"http://www.w3.org/2000/svg\" height=\"24px\" viewBox=\"0 -960 960 960\">\n",
              "    <path d=\"M120-120v-720h720v720H120Zm60-500h600v-160H180v160Zm220 220h160v-160H400v160Zm0 220h160v-160H400v160ZM180-400h160v-160H180v160Zm440 0h160v-160H620v160ZM180-180h160v-160H180v160Zm440 0h160v-160H620v160Z\"/>\n",
              "  </svg>\n",
              "    </button>\n",
              "\n",
              "  <style>\n",
              "    .colab-df-container {\n",
              "      display:flex;\n",
              "      gap: 12px;\n",
              "    }\n",
              "\n",
              "    .colab-df-convert {\n",
              "      background-color: #E8F0FE;\n",
              "      border: none;\n",
              "      border-radius: 50%;\n",
              "      cursor: pointer;\n",
              "      display: none;\n",
              "      fill: #1967D2;\n",
              "      height: 32px;\n",
              "      padding: 0 0 0 0;\n",
              "      width: 32px;\n",
              "    }\n",
              "\n",
              "    .colab-df-convert:hover {\n",
              "      background-color: #E2EBFA;\n",
              "      box-shadow: 0px 1px 2px rgba(60, 64, 67, 0.3), 0px 1px 3px 1px rgba(60, 64, 67, 0.15);\n",
              "      fill: #174EA6;\n",
              "    }\n",
              "\n",
              "    .colab-df-buttons div {\n",
              "      margin-bottom: 4px;\n",
              "    }\n",
              "\n",
              "    [theme=dark] .colab-df-convert {\n",
              "      background-color: #3B4455;\n",
              "      fill: #D2E3FC;\n",
              "    }\n",
              "\n",
              "    [theme=dark] .colab-df-convert:hover {\n",
              "      background-color: #434B5C;\n",
              "      box-shadow: 0px 1px 3px 1px rgba(0, 0, 0, 0.15);\n",
              "      filter: drop-shadow(0px 1px 2px rgba(0, 0, 0, 0.3));\n",
              "      fill: #FFFFFF;\n",
              "    }\n",
              "  </style>\n",
              "\n",
              "    <script>\n",
              "      const buttonEl =\n",
              "        document.querySelector('#df-c85948c0-4746-4859-9480-b21302f481d3 button.colab-df-convert');\n",
              "      buttonEl.style.display =\n",
              "        google.colab.kernel.accessAllowed ? 'block' : 'none';\n",
              "\n",
              "      async function convertToInteractive(key) {\n",
              "        const element = document.querySelector('#df-c85948c0-4746-4859-9480-b21302f481d3');\n",
              "        const dataTable =\n",
              "          await google.colab.kernel.invokeFunction('convertToInteractive',\n",
              "                                                    [key], {});\n",
              "        if (!dataTable) return;\n",
              "\n",
              "        const docLinkHtml = 'Like what you see? Visit the ' +\n",
              "          '<a target=\"_blank\" href=https://colab.research.google.com/notebooks/data_table.ipynb>data table notebook</a>'\n",
              "          + ' to learn more about interactive tables.';\n",
              "        element.innerHTML = '';\n",
              "        dataTable['output_type'] = 'display_data';\n",
              "        await google.colab.output.renderOutput(dataTable, element);\n",
              "        const docLink = document.createElement('div');\n",
              "        docLink.innerHTML = docLinkHtml;\n",
              "        element.appendChild(docLink);\n",
              "      }\n",
              "    </script>\n",
              "  </div>\n",
              "\n",
              "\n",
              "<div id=\"df-896773d2-9b54-49be-97a4-c2f4f8b924ca\">\n",
              "  <button class=\"colab-df-quickchart\" onclick=\"quickchart('df-896773d2-9b54-49be-97a4-c2f4f8b924ca')\"\n",
              "            title=\"Suggest charts.\"\n",
              "            style=\"display:none;\">\n",
              "\n",
              "<svg xmlns=\"http://www.w3.org/2000/svg\" height=\"24px\"viewBox=\"0 0 24 24\"\n",
              "     width=\"24px\">\n",
              "    <g>\n",
              "        <path d=\"M19 3H5c-1.1 0-2 .9-2 2v14c0 1.1.9 2 2 2h14c1.1 0 2-.9 2-2V5c0-1.1-.9-2-2-2zM9 17H7v-7h2v7zm4 0h-2V7h2v10zm4 0h-2v-4h2v4z\"/>\n",
              "    </g>\n",
              "</svg>\n",
              "  </button>\n",
              "\n",
              "<style>\n",
              "  .colab-df-quickchart {\n",
              "      --bg-color: #E8F0FE;\n",
              "      --fill-color: #1967D2;\n",
              "      --hover-bg-color: #E2EBFA;\n",
              "      --hover-fill-color: #174EA6;\n",
              "      --disabled-fill-color: #AAA;\n",
              "      --disabled-bg-color: #DDD;\n",
              "  }\n",
              "\n",
              "  [theme=dark] .colab-df-quickchart {\n",
              "      --bg-color: #3B4455;\n",
              "      --fill-color: #D2E3FC;\n",
              "      --hover-bg-color: #434B5C;\n",
              "      --hover-fill-color: #FFFFFF;\n",
              "      --disabled-bg-color: #3B4455;\n",
              "      --disabled-fill-color: #666;\n",
              "  }\n",
              "\n",
              "  .colab-df-quickchart {\n",
              "    background-color: var(--bg-color);\n",
              "    border: none;\n",
              "    border-radius: 50%;\n",
              "    cursor: pointer;\n",
              "    display: none;\n",
              "    fill: var(--fill-color);\n",
              "    height: 32px;\n",
              "    padding: 0;\n",
              "    width: 32px;\n",
              "  }\n",
              "\n",
              "  .colab-df-quickchart:hover {\n",
              "    background-color: var(--hover-bg-color);\n",
              "    box-shadow: 0 1px 2px rgba(60, 64, 67, 0.3), 0 1px 3px 1px rgba(60, 64, 67, 0.15);\n",
              "    fill: var(--button-hover-fill-color);\n",
              "  }\n",
              "\n",
              "  .colab-df-quickchart-complete:disabled,\n",
              "  .colab-df-quickchart-complete:disabled:hover {\n",
              "    background-color: var(--disabled-bg-color);\n",
              "    fill: var(--disabled-fill-color);\n",
              "    box-shadow: none;\n",
              "  }\n",
              "\n",
              "  .colab-df-spinner {\n",
              "    border: 2px solid var(--fill-color);\n",
              "    border-color: transparent;\n",
              "    border-bottom-color: var(--fill-color);\n",
              "    animation:\n",
              "      spin 1s steps(1) infinite;\n",
              "  }\n",
              "\n",
              "  @keyframes spin {\n",
              "    0% {\n",
              "      border-color: transparent;\n",
              "      border-bottom-color: var(--fill-color);\n",
              "      border-left-color: var(--fill-color);\n",
              "    }\n",
              "    20% {\n",
              "      border-color: transparent;\n",
              "      border-left-color: var(--fill-color);\n",
              "      border-top-color: var(--fill-color);\n",
              "    }\n",
              "    30% {\n",
              "      border-color: transparent;\n",
              "      border-left-color: var(--fill-color);\n",
              "      border-top-color: var(--fill-color);\n",
              "      border-right-color: var(--fill-color);\n",
              "    }\n",
              "    40% {\n",
              "      border-color: transparent;\n",
              "      border-right-color: var(--fill-color);\n",
              "      border-top-color: var(--fill-color);\n",
              "    }\n",
              "    60% {\n",
              "      border-color: transparent;\n",
              "      border-right-color: var(--fill-color);\n",
              "    }\n",
              "    80% {\n",
              "      border-color: transparent;\n",
              "      border-right-color: var(--fill-color);\n",
              "      border-bottom-color: var(--fill-color);\n",
              "    }\n",
              "    90% {\n",
              "      border-color: transparent;\n",
              "      border-bottom-color: var(--fill-color);\n",
              "    }\n",
              "  }\n",
              "</style>\n",
              "\n",
              "  <script>\n",
              "    async function quickchart(key) {\n",
              "      const quickchartButtonEl =\n",
              "        document.querySelector('#' + key + ' button');\n",
              "      quickchartButtonEl.disabled = true;  // To prevent multiple clicks.\n",
              "      quickchartButtonEl.classList.add('colab-df-spinner');\n",
              "      try {\n",
              "        const charts = await google.colab.kernel.invokeFunction(\n",
              "            'suggestCharts', [key], {});\n",
              "      } catch (error) {\n",
              "        console.error('Error during call to suggestCharts:', error);\n",
              "      }\n",
              "      quickchartButtonEl.classList.remove('colab-df-spinner');\n",
              "      quickchartButtonEl.classList.add('colab-df-quickchart-complete');\n",
              "    }\n",
              "    (() => {\n",
              "      let quickchartButtonEl =\n",
              "        document.querySelector('#df-896773d2-9b54-49be-97a4-c2f4f8b924ca button');\n",
              "      quickchartButtonEl.style.display =\n",
              "        google.colab.kernel.accessAllowed ? 'block' : 'none';\n",
              "    })();\n",
              "  </script>\n",
              "</div>\n",
              "    </div>\n",
              "  </div>\n"
            ]
          },
          "metadata": {},
          "execution_count": 8
        }
      ]
    },
    {
      "cell_type": "markdown",
      "source": [
        "<h2>DATA CLEANING"
      ],
      "metadata": {
        "id": "USVvQ4eka25s"
      }
    },
    {
      "cell_type": "code",
      "source": [
        "# Remove punctuation\n",
        "df['text_processed'] = df['Title'].map(lambda x: re.sub('[,\\.!?]', '', x))\n",
        "\n",
        "# Convert the titles to lowercase\n",
        "df['text_processed'] = df['text_processed'].map(lambda x: x.lower())\n",
        "\n",
        "# Print out the first rows of papers\n",
        "df['text_processed'].head()"
      ],
      "metadata": {
        "colab": {
          "base_uri": "https://localhost:8080/"
        },
        "id": "J7XWNmFiU7o4",
        "outputId": "13288f37-a524-4bac-eb7a-062eeae14b11"
      },
      "execution_count": null,
      "outputs": [
        {
          "output_type": "stream",
          "name": "stderr",
          "text": [
            "/usr/local/lib/python3.10/dist-packages/ipykernel/ipkernel.py:283: DeprecationWarning: `should_run_async` will not call `transform_cell` automatically in the future. Please pass the result to `transformed_cell` argument and any exception that happen during thetransform in `preprocessing_exc_tuple` in IPython 7.17 and above.\n",
            "  and should_run_async(code)\n",
            "<>:2: DeprecationWarning: invalid escape sequence '\\.'\n",
            "<>:2: DeprecationWarning: invalid escape sequence '\\.'\n",
            "<ipython-input-9-f61b4ef81c59>:2: DeprecationWarning: invalid escape sequence '\\.'\n",
            "  df['text_processed'] = df['Title'].map(lambda x: re.sub('[,\\.!?]', '', x))\n"
          ]
        },
        {
          "output_type": "execute_result",
          "data": {
            "text/plain": [
              "0    marcos suspends philippine wealth fund pending...\n",
              "1    nope maharlika fund irr suspension isnt due to...\n",
              "2    marcos jr suspends maharlika investment funds ...\n",
              "3    maharlika fund implementation suspended for fu...\n",
              "4    marcos suspends maharlika fund implementation ...\n",
              "Name: text_processed, dtype: object"
            ]
          },
          "metadata": {},
          "execution_count": 9
        }
      ]
    },
    {
      "cell_type": "markdown",
      "source": [
        "<h2>EXPLORATORY ANALYSIS"
      ],
      "metadata": {
        "id": "cf_r4OYra5xr"
      }
    },
    {
      "cell_type": "code",
      "source": [
        "# Join the different processed titles together.\n",
        "long_string = ','.join(list(df['text_processed'].values))\n",
        "\n",
        "# Create a WordCloud object\n",
        "wordcloud = WordCloud(background_color=\"white\", max_words=5000, contour_width=5, contour_color='steelblue')\n",
        "\n",
        "# Generate a word cloud\n",
        "wordcloud.generate(long_string)\n",
        "\n",
        "# Visualize the word cloud\n",
        "wordcloud.to_image()"
      ],
      "metadata": {
        "colab": {
          "base_uri": "https://localhost:8080/",
          "height": 306
        },
        "id": "jkxaNtY7WeAu",
        "outputId": "cd3974c0-b824-4cf0-935d-a995fa714cde"
      },
      "execution_count": null,
      "outputs": [
        {
          "output_type": "stream",
          "name": "stderr",
          "text": [
            "/usr/local/lib/python3.10/dist-packages/ipykernel/ipkernel.py:283: DeprecationWarning: `should_run_async` will not call `transform_cell` automatically in the future. Please pass the result to `transformed_cell` argument and any exception that happen during thetransform in `preprocessing_exc_tuple` in IPython 7.17 and above.\n",
            "  and should_run_async(code)\n",
            "/usr/local/lib/python3.10/dist-packages/wordcloud/wordcloud.py:106: MatplotlibDeprecationWarning: The get_cmap function was deprecated in Matplotlib 3.7 and will be removed two minor releases later. Use ``matplotlib.colormaps[name]`` or ``matplotlib.colormaps.get_cmap(obj)`` instead.\n",
            "  self.colormap = plt.cm.get_cmap(colormap)\n"
          ]
        },
        {
          "output_type": "execute_result",
          "data": {
            "text/plain": [
              "<PIL.Image.Image image mode=RGB size=400x200>"
            ],
            "image/png": "[encoded data removed]"
          },
          "metadata": {},
          "execution_count": 10
        }
      ]
    },
    {
      "cell_type": "markdown",
      "source": [
        "<h2>TOKENIZATION"
      ],
      "metadata": {
        "id": "F3xVg4Qya9cB"
      }
    },
    {
      "cell_type": "code",
      "source": [
        "def sent_to_words(sentences):\n",
        "    for sentence in sentences:\n",
        "        yield(gensim.utils.simple_preprocess(str(sentence), deacc=True))  # deacc=True removes punctuations\n",
        "\n",
        "data = df.text_processed.values.tolist()\n",
        "data_words = list(sent_to_words(data))\n",
        "\n",
        "print(data_words[:1][0][:30])"
      ],
      "metadata": {
        "colab": {
          "base_uri": "https://localhost:8080/"
        },
        "id": "tRHR14q7U96w",
        "outputId": "c4b250b5-295f-4b65-aaa5-9e6239cdbfe0"
      },
      "execution_count": null,
      "outputs": [
        {
          "output_type": "stream",
          "name": "stdout",
          "text": [
            "['marcos', 'suspends', 'philippine', 'wealth', 'fund', 'pending', 'further', 'study']\n"
          ]
        },
        {
          "output_type": "stream",
          "name": "stderr",
          "text": [
            "/usr/local/lib/python3.10/dist-packages/ipykernel/ipkernel.py:283: DeprecationWarning: `should_run_async` will not call `transform_cell` automatically in the future. Please pass the result to `transformed_cell` argument and any exception that happen during thetransform in `preprocessing_exc_tuple` in IPython 7.17 and above.\n",
            "  and should_run_async(code)\n"
          ]
        }
      ]
    },
    {
      "cell_type": "markdown",
      "source": [
        "<h2>PHRASE MODELING"
      ],
      "metadata": {
        "id": "ro6iLMFabID8"
      }
    },
    {
      "cell_type": "code",
      "source": [
        "# Build the bigram and trigram models\n",
        "bigram = gensim.models.Phrases(data_words, min_count=5, threshold=100) # higher threshold fewer phrases.\n",
        "trigram = gensim.models.Phrases(bigram[data_words], threshold=100)\n",
        "\n",
        "# Faster way to get a sentence clubbed as a trigram/bigram\n",
        "bigram_mod = gensim.models.phrases.Phraser(bigram)\n",
        "trigram_mod = gensim.models.phrases.Phraser(trigram)"
      ],
      "metadata": {
        "id": "wUP4gse3VLcn",
        "colab": {
          "base_uri": "https://localhost:8080/"
        },
        "outputId": "a98c6d6a-8ddd-4986-e4ab-246300419eb1"
      },
      "execution_count": null,
      "outputs": [
        {
          "output_type": "stream",
          "name": "stderr",
          "text": [
            "/usr/local/lib/python3.10/dist-packages/ipykernel/ipkernel.py:283: DeprecationWarning: `should_run_async` will not call `transform_cell` automatically in the future. Please pass the result to `transformed_cell` argument and any exception that happen during thetransform in `preprocessing_exc_tuple` in IPython 7.17 and above.\n",
            "  and should_run_async(code)\n"
          ]
        }
      ]
    },
    {
      "cell_type": "code",
      "source": [
        "stop_words = stopwords.words('english','filipino')\n",
        "stop_words.extend(['from', 'subject', 're', 'edu', 'use'])\n",
        "\n",
        "# Define functions for stopwords, bigrams, trigrams and lemmatization\n",
        "def remove_stopwords(texts):\n",
        "    return [[word for word in simple_preprocess(str(doc)) if word not in stop_words] for doc in texts]\n",
        "\n",
        "def make_bigrams(texts):\n",
        "    return [bigram_mod[doc] for doc in texts]\n",
        "\n",
        "def make_trigrams(texts):\n",
        "    return [trigram_mod[bigram_mod[doc]] for doc in texts]\n",
        "\n",
        "def lemmatization(texts, allowed_postags=['NOUN', 'ADJ', 'VERB', 'ADV']):\n",
        "    \"\"\"https://spacy.io/api/annotation\"\"\"\n",
        "    texts_out = []\n",
        "    for sent in texts:\n",
        "        doc = nlp(\" \".join(sent))\n",
        "        texts_out.append([token.lemma_ for token in doc if token.pos_ in allowed_postags])\n",
        "    return texts_out"
      ],
      "metadata": {
        "id": "R0dPTGOMVOlE",
        "colab": {
          "base_uri": "https://localhost:8080/"
        },
        "outputId": "8045a306-fb97-4439-8306-bc72c656c329"
      },
      "execution_count": null,
      "outputs": [
        {
          "output_type": "stream",
          "name": "stderr",
          "text": [
            "/usr/local/lib/python3.10/dist-packages/ipykernel/ipkernel.py:283: DeprecationWarning: `should_run_async` will not call `transform_cell` automatically in the future. Please pass the result to `transformed_cell` argument and any exception that happen during thetransform in `preprocessing_exc_tuple` in IPython 7.17 and above.\n",
            "  and should_run_async(code)\n"
          ]
        }
      ]
    },
    {
      "cell_type": "code",
      "source": [
        "# Remove Stop Words\n",
        "data_words_nostops = remove_stopwords(data_words)\n",
        "\n",
        "# Form Bigrams\n",
        "data_words_bigrams = make_bigrams(data_words_nostops)\n",
        "\n",
        "# Initialize spacy 'en' model, keeping only tagger component (for efficiency)\n",
        "nlp = spacy.load(\"en_core_web_sm\", disable=['parser', 'ner'])\n",
        "\n",
        "# Do lemmatization keeping only noun, adj, vb, adv\n",
        "data_lemmatized = lemmatization(data_words_bigrams, allowed_postags=['NOUN', 'ADJ', 'VERB', 'ADV'])\n",
        "\n",
        "print(data_lemmatized[:1][0][:30])"
      ],
      "metadata": {
        "colab": {
          "base_uri": "https://localhost:8080/"
        },
        "id": "ZO5vFyvHVVtX",
        "outputId": "ad00d990-e887-4413-e507-8dc6694da41d"
      },
      "execution_count": null,
      "outputs": [
        {
          "output_type": "stream",
          "name": "stderr",
          "text": [
            "/usr/local/lib/python3.10/dist-packages/ipykernel/ipkernel.py:283: DeprecationWarning: `should_run_async` will not call `transform_cell` automatically in the future. Please pass the result to `transformed_cell` argument and any exception that happen during thetransform in `preprocessing_exc_tuple` in IPython 7.17 and above.\n",
            "  and should_run_async(code)\n"
          ]
        },
        {
          "output_type": "stream",
          "name": "stdout",
          "text": [
            "['suspend', 'philippine', 'wealth', 'fund', 'pende', 'study']\n"
          ]
        }
      ]
    },
    {
      "cell_type": "markdown",
      "source": [
        "<h2>DATA TRANSFORMATION"
      ],
      "metadata": {
        "id": "wqq56Tl-bOgk"
      }
    },
    {
      "cell_type": "code",
      "source": [
        "# Create Dictionary\n",
        "id2word = corpora.Dictionary(data_lemmatized)\n",
        "\n",
        "# Create Corpus\n",
        "texts = data_lemmatized\n",
        "\n",
        "# Term Document Frequency\n",
        "corpus = [id2word.doc2bow(text) for text in texts]\n",
        "\n",
        "# View\n",
        "print(corpus[:1][0][:30])"
      ],
      "metadata": {
        "colab": {
          "base_uri": "https://localhost:8080/"
        },
        "id": "SwMGDPR_VaXd",
        "outputId": "93e82399-2de6-49df-e2fc-8f77379e2aa1"
      },
      "execution_count": null,
      "outputs": [
        {
          "output_type": "stream",
          "name": "stdout",
          "text": [
            "[(0, 1), (1, 1), (2, 1), (3, 1), (4, 1), (5, 1)]\n"
          ]
        },
        {
          "output_type": "stream",
          "name": "stderr",
          "text": [
            "/usr/local/lib/python3.10/dist-packages/ipykernel/ipkernel.py:283: DeprecationWarning: `should_run_async` will not call `transform_cell` automatically in the future. Please pass the result to `transformed_cell` argument and any exception that happen during thetransform in `preprocessing_exc_tuple` in IPython 7.17 and above.\n",
            "  and should_run_async(code)\n"
          ]
        }
      ]
    },
    {
      "cell_type": "markdown",
      "source": [
        "<h2>LATENT DIRICHLET ALLOCATION MODEL TRAINING"
      ],
      "metadata": {
        "id": "K3KIeIn0bbbI"
      }
    },
    {
      "cell_type": "code",
      "source": [
        "# Build LDA model\n",
        "lda_model = gensim.models.LdaMulticore(corpus=corpus,\n",
        "                                       id2word=id2word,\n",
        "                                       num_topics=2,\n",
        "                                       random_state=100,\n",
        "                                       chunksize=100,\n",
        "                                       passes=10,\n",
        "                                       per_word_topics=True)"
      ],
      "metadata": {
        "colab": {
          "base_uri": "https://localhost:8080/"
        },
        "id": "asqZ0si4VdRK",
        "outputId": "e7feeda2-88b8-43e6-e33e-6631d779ea0c"
      },
      "execution_count": null,
      "outputs": [
        {
          "output_type": "stream",
          "name": "stderr",
          "text": [
            "/usr/local/lib/python3.10/dist-packages/ipykernel/ipkernel.py:283: DeprecationWarning: `should_run_async` will not call `transform_cell` automatically in the future. Please pass the result to `transformed_cell` argument and any exception that happen during thetransform in `preprocessing_exc_tuple` in IPython 7.17 and above.\n",
            "  and should_run_async(code)\n"
          ]
        }
      ]
    },
    {
      "cell_type": "code",
      "source": [
        "# Print the Keyword in the 5 topics\n",
        "pprint(lda_model.print_topics())\n",
        "doc_lda = lda_model[corpus]"
      ],
      "metadata": {
        "colab": {
          "base_uri": "https://localhost:8080/"
        },
        "id": "PW9WN_UQVeEM",
        "outputId": "4254340f-9783-42f9-dd5a-ca4f9f0b4b90"
      },
      "execution_count": null,
      "outputs": [
        {
          "output_type": "stream",
          "name": "stdout",
          "text": [
            "[(0,\n",
            "  '0.028*\"maharlika\" + 0.012*\"well\" + 0.011*\"fund\" + 0.011*\"philippine\" + '\n",
            "  '0.009*\"scam\" + 0.008*\"get\" + 0.007*\"business\" + 0.007*\"see\" + 0.007*\"go\" + '\n",
            "  '0.006*\"funding\"'),\n",
            " (1,\n",
            "  '0.104*\"fund\" + 0.040*\"maharlika\" + 0.011*\"investment\" + 0.010*\"money\" + '\n",
            "  '0.009*\"wealth\" + 0.008*\"law\" + 0.008*\"make\" + 0.007*\"govt\" + 0.007*\"bill\" + '\n",
            "  '0.007*\"landbank\"')]\n"
          ]
        },
        {
          "output_type": "stream",
          "name": "stderr",
          "text": [
            "/usr/local/lib/python3.10/dist-packages/ipykernel/ipkernel.py:283: DeprecationWarning: `should_run_async` will not call `transform_cell` automatically in the future. Please pass the result to `transformed_cell` argument and any exception that happen during thetransform in `preprocessing_exc_tuple` in IPython 7.17 and above.\n",
            "  and should_run_async(code)\n"
          ]
        }
      ]
    },
    {
      "cell_type": "markdown",
      "source": [
        "<h2> VISUALIZATION"
      ],
      "metadata": {
        "id": "1roZ6gzImcpv"
      }
    },
    {
      "cell_type": "code",
      "source": [
        "#visualize the topic\n",
        "#https://github.com/bmabey/pyLDAvis\n",
        "#https://speakerdeck.com/bmabey/visualizing-topic-models\n",
        "pyLDAvis.enable_notebook()\n",
        "vis = pyLDAvis.gensim.prepare(lda_model, corpus, id2word)\n",
        "vis"
      ],
      "metadata": {
        "id": "RRB2jy7wmgjp",
        "colab": {
          "base_uri": "https://localhost:8080/",
          "height": 916
        },
        "outputId": "7ec0c89e-64cb-4fbb-a94a-49425d4a4b99"
      },
      "execution_count": null,
      "outputs": [
        {
          "output_type": "stream",
          "name": "stderr",
          "text": [
            "/usr/local/lib/python3.10/dist-packages/ipykernel/ipkernel.py:283: DeprecationWarning: `should_run_async` will not call `transform_cell` automatically in the future. Please pass the result to `transformed_cell` argument and any exception that happen during thetransform in `preprocessing_exc_tuple` in IPython 7.17 and above.\n",
            "  and should_run_async(code)\n"
          ]
        },
        {
          "output_type": "execute_result",
          "data": {
            "text/plain": [
              "PreparedData(topic_coordinates=              x    y  topics  cluster       Freq\n",
              "topic                                           \n",
              "1      0.108892  0.0       1        1  62.919145\n",
              "0     -0.108892  0.0       2        1  37.080855, topic_info=           Term        Freq       Total Category  logprob  loglift\n",
              "0          fund  152.000000  152.000000  Default  30.0000  30.0000\n",
              "171        well   10.000000   10.000000  Default  29.0000  29.0000\n",
              "593        scam    8.000000    8.000000  Default  28.0000  28.0000\n",
              "177         see    6.000000    6.000000  Default  27.0000  27.0000\n",
              "262    business    6.000000    6.000000  Default  26.0000  26.0000\n",
              "..          ...         ...         ...      ...      ...      ...\n",
              "12   investment    4.904440   20.218837   Topic2  -5.1067  -0.4244\n",
              "517       money    4.697209   18.216024   Topic2  -5.1499  -0.3633\n",
              "621       think    3.705752    7.622218   Topic2  -5.3870   0.2709\n",
              "58     landbank    4.099795   13.808351   Topic2  -5.2859  -0.2223\n",
              "312        take    3.477381    9.923225   Topic2  -5.4506  -0.0565\n",
              "\n",
              "[123 rows x 6 columns], token_table=      Topic      Freq       Term\n",
              "term                            \n",
              "512       1  0.841211     affect\n",
              "392       1  0.481945    already\n",
              "392       2  0.481945    already\n",
              "483       2  0.960620  amusement\n",
              "221       1  0.859255    benefit\n",
              "...     ...       ...        ...\n",
              "542       1  0.718503   transfer\n",
              "542       2  0.307930   transfer\n",
              "5         1  1.008413     wealth\n",
              "171       1  0.097126       well\n",
              "171       2  0.971258       well\n",
              "\n",
              "[116 rows x 3 columns], R=30, lambda_step=0.01, plot_opts={'xlab': 'PC1', 'ylab': 'PC2'}, topic_order=[2, 1])"
            ],
            "text/html": [
              "\n",
              "<link rel=\"stylesheet\" type=\"text/css\" href=\"https://cdn.jsdelivr.net/gh/bmabey/pyLDAvis@3.4.0/pyLDAvis/js/ldavis.v1.0.0.css\">\n",
              "\n",
              "\n",
              "<div id=\"ldavis_el8821364898252906082410390412\" style=\"background-color:white;\"></div>\n",
              "<script type=\"text/javascript\">\n",
              "\n",
              "var ldavis_el8821364898252906082410390412_data = {\"mdsDat\": {\"x\": [0.10889223407934151, -0.10889223407934151], \"y\": [0.0, 0.0], \"topics\": [1, 2], \"cluster\": [1, 1], \"Freq\": [62.919145479155524, 37.08085452084448]}, \"tinfo\": {\"Term\": [\"fund\", \"well\", \"scam\", \"see\", \"business\", \"get\", \"funding\", \"wealth\", \"company\", \"chief\", \"board\", \"political\", \"implementing_rule\", \"management\", \"debt\", \"send\", \"country\", \"ready\", \"end\", \"study\", \"opinion\", \"sentral\", \"probably\", \"government\", \"early\", \"suspend\", \"look\", \"next\", \"thought\", \"last\", \"wealth\", \"end\", \"government\", \"suspend\", \"stock\", \"tax\", \"come\", \"irr\", \"project\", \"know\", \"steal\", \"manager\", \"implementation\", \"new\", \"fund\", \"remit\", \"petition\", \"controversial\", \"future\", \"chance\", \"play\", \"sign\", \"taxis\", \"affect\", \"question\", \"benefit\", \"right\", \"face\", \"corruption\", \"plunder\", \"make\", \"maharlika\", \"law\", \"govt\", \"investment\", \"sovereign\", \"money\", \"bill\", \"landbank\", \"good\", \"expect\", \"m\", \"philippine\", \"transfer\", \"take\", \"well\", \"see\", \"political\", \"chief\", \"company\", \"management\", \"send\", \"funding\", \"country\", \"debt\", \"business\", \"sentral\", \"probably\", \"opinion\", \"look\", \"early\", \"next\", \"last\", \"board\", \"pass\", \"amusement\", \"dividend\", \"proceed\", \"department\", \"include\", \"privatization\", \"meet\", \"fast\", \"implementing_rule\", \"support\", \"study\", \"scam\", \"ready\", \"get\", \"thought\", \"maharlika\", \"philippine\", \"go\", \"say\", \"already\", \"final\", \"people\", \"fund\", \"investment\", \"money\", \"think\", \"landbank\", \"take\"], \"Freq\": [152.0, 10.0, 8.0, 6.0, 6.0, 8.0, 5.0, 12.0, 4.0, 4.0, 5.0, 4.0, 5.0, 4.0, 4.0, 4.0, 3.0, 4.0, 9.0, 3.0, 3.0, 3.0, 3.0, 9.0, 3.0, 9.0, 3.0, 3.0, 3.0, 3.0, 12.518247283856127, 9.401625966162813, 8.8258615555439, 8.675777825131311, 7.380717111140435, 6.135755975010293, 6.134226636988386, 6.623898915329746, 6.022616955908496, 6.006855175927072, 5.679311924619378, 6.355017615134304, 5.721773770835978, 5.307089926853704, 143.1298931362395, 5.10269677973263, 5.736991643989526, 4.951506038952719, 4.889119285905103, 4.887656816428506, 4.675042997521896, 4.657151662336746, 4.434621782067594, 4.434621462122401, 4.427521878292672, 4.330981295851646, 4.102529869952902, 4.106406645854878, 4.099592453137187, 4.204265722435711, 10.615488429546236, 55.01172968112701, 11.488768595231845, 9.913043639482604, 15.314396778894503, 8.416833382735947, 13.518814445072133, 9.862619637196303, 9.708556428474827, 5.2977158526478805, 6.269518021353942, 5.625253984832488, 9.184729360904479, 6.58273284714426, 6.445843656485524, 9.795506315000749, 5.597111956453358, 4.312343461919254, 4.486691122338645, 4.494684427877978, 4.0653655561541555, 3.639280058731817, 5.212149217845983, 3.5413307654239854, 3.742970156447332, 5.748379871056905, 3.2455701639636194, 3.1463484884662374, 3.2928357305692124, 2.960603881294774, 3.0263095618021527, 2.956381525875302, 2.9248101185439874, 4.593116426936439, 2.8183080712741213, 2.7513954378332346, 2.7513954378332346, 2.7513954378332346, 2.751395060719367, 2.751395060719367, 2.751395060719367, 2.7510865815756054, 2.8126543801698722, 4.396332754073332, 2.931136580788176, 3.442293875721766, 6.972568416773128, 3.811242096824269, 6.515881260330211, 3.005030157590609, 22.516989350295148, 8.569545334106433, 5.350838499393085, 4.826874606070038, 4.400280759154067, 3.657907975339707, 3.598644531033895, 9.15994273770148, 4.904440140602064, 4.6972092822626355, 3.705752411732188, 4.099794920931679, 3.4773809270845217], \"Total\": [152.0, 10.0, 8.0, 6.0, 6.0, 8.0, 5.0, 12.0, 4.0, 4.0, 5.0, 4.0, 5.0, 4.0, 4.0, 4.0, 3.0, 4.0, 9.0, 3.0, 3.0, 3.0, 3.0, 9.0, 3.0, 9.0, 3.0, 3.0, 3.0, 3.0, 12.89154011598008, 9.737802025809692, 9.150226267437363, 9.01712609575188, 7.703083402370598, 6.457708808023778, 6.45749446605847, 6.977477507210725, 6.346774184465884, 6.330473933020648, 6.0003835368025635, 6.726790112700708, 6.0590702593533505, 5.633623868422909, 152.28983587394097, 5.429827079744336, 6.10583837432239, 5.274312563484163, 5.2121002256003495, 5.211896137960965, 4.99733914557267, 4.985103151364941, 4.755047869587779, 4.75504780890837, 4.754061830114142, 4.655195185767653, 4.424316655016525, 4.429368117046705, 4.423904274810707, 4.5380263677601045, 11.969159304565569, 77.52871903142216, 13.931119595615709, 11.883860133339146, 20.218836919496567, 10.121511003767536, 18.21602372733477, 12.660844698004095, 13.808351349406506, 6.122194339125726, 8.144677131433475, 6.782220475179393, 17.754274695010913, 9.74247698586127, 9.923224583570045, 10.295930671493613, 6.011263771573042, 4.693202380166385, 4.896682170204535, 4.906751120182595, 4.476988084544774, 4.012307878458876, 5.754838654261834, 3.912269383034769, 4.157172562900638, 6.398834407135704, 3.6174715366528902, 3.517625448118478, 3.696296697048677, 3.332298009485365, 3.4097303611948715, 3.3329567779214284, 3.2974028528018957, 5.180963807722886, 3.198715586847265, 3.122983184247197, 3.1229832242403464, 3.1229832242403464, 3.1229831270785224, 3.1229831670716717, 3.1229832070648205, 3.1230301870303347, 3.1996045749714104, 5.002520433136819, 3.336933427127617, 3.933119876428606, 8.348024958827743, 4.447503224257081, 8.025419154030956, 3.440776153591945, 77.52871903142216, 17.754274695010913, 9.138502946305668, 8.126462661263282, 8.299702061935259, 6.018348907964313, 5.9363635959514385, 152.28983587394097, 20.218836919496567, 18.21602372733477, 7.622218474718202, 13.808351349406506, 9.923224583570045], \"Category\": [\"Default\", \"Default\", \"Default\", \"Default\", \"Default\", \"Default\", \"Default\", \"Default\", \"Default\", \"Default\", \"Default\", \"Default\", \"Default\", \"Default\", \"Default\", \"Default\", \"Default\", \"Default\", \"Default\", \"Default\", \"Default\", \"Default\", \"Default\", \"Default\", \"Default\", \"Default\", \"Default\", \"Default\", \"Default\", \"Default\", \"Topic1\", \"Topic1\", \"Topic1\", \"Topic1\", \"Topic1\", \"Topic1\", \"Topic1\", \"Topic1\", \"Topic1\", \"Topic1\", \"Topic1\", \"Topic1\", \"Topic1\", \"Topic1\", \"Topic1\", \"Topic1\", \"Topic1\", \"Topic1\", \"Topic1\", \"Topic1\", \"Topic1\", \"Topic1\", \"Topic1\", \"Topic1\", \"Topic1\", \"Topic1\", \"Topic1\", \"Topic1\", \"Topic1\", \"Topic1\", \"Topic1\", \"Topic1\", \"Topic1\", \"Topic1\", \"Topic1\", \"Topic1\", \"Topic1\", \"Topic1\", \"Topic1\", \"Topic1\", \"Topic1\", \"Topic1\", \"Topic1\", \"Topic1\", \"Topic1\", \"Topic2\", \"Topic2\", \"Topic2\", \"Topic2\", \"Topic2\", \"Topic2\", \"Topic2\", \"Topic2\", \"Topic2\", \"Topic2\", \"Topic2\", \"Topic2\", \"Topic2\", \"Topic2\", \"Topic2\", \"Topic2\", \"Topic2\", \"Topic2\", \"Topic2\", \"Topic2\", \"Topic2\", \"Topic2\", \"Topic2\", \"Topic2\", \"Topic2\", \"Topic2\", \"Topic2\", \"Topic2\", \"Topic2\", \"Topic2\", \"Topic2\", \"Topic2\", \"Topic2\", \"Topic2\", \"Topic2\", \"Topic2\", \"Topic2\", \"Topic2\", \"Topic2\", \"Topic2\", \"Topic2\", \"Topic2\", \"Topic2\", \"Topic2\", \"Topic2\", \"Topic2\", \"Topic2\", \"Topic2\"], \"logprob\": [30.0, 29.0, 28.0, 27.0, 26.0, 25.0, 24.0, 23.0, 22.0, 21.0, 20.0, 19.0, 18.0, 17.0, 16.0, 15.0, 14.0, 13.0, 12.0, 11.0, 10.0, 9.0, 8.0, 7.0, 6.0, 5.0, 4.0, 3.0, 2.0, 1.0, -4.6984, -4.9847, -5.0479, -5.0651, -5.2267, -5.4115, -5.4117, -5.3349, -5.4301, -5.4327, -5.4888, -5.3763, -5.4813, -5.5566, -2.2618, -5.5958, -5.4787, -5.6259, -5.6386, -5.6389, -5.6834, -5.6872, -5.7362, -5.7362, -5.7378, -5.7598, -5.814, -5.813, -5.8147, -5.7895, -4.8633, -3.218, -4.7842, -4.9317, -4.4968, -5.0954, -4.6215, -4.9368, -4.9526, -5.5583, -5.3899, -5.4983, -5.0081, -5.3411, -5.3622, -4.4149, -4.9746, -5.2354, -5.1957, -5.1939, -5.2943, -5.4051, -5.0459, -5.4323, -5.377, -4.9479, -5.5196, -5.5506, -5.5051, -5.6115, -5.5895, -5.6129, -5.6236, -5.1723, -5.6607, -5.6847, -5.6847, -5.6847, -5.6847, -5.6847, -5.6847, -5.6848, -5.6627, -5.2161, -5.6215, -5.4607, -4.7549, -5.3589, -4.8226, -5.5966, -3.5826, -4.5486, -5.0196, -5.1226, -5.2152, -5.4, -5.4163, -4.482, -5.1067, -5.1499, -5.387, -5.2859, -5.4506], \"loglift\": [30.0, 29.0, 28.0, 27.0, 26.0, 25.0, 24.0, 23.0, 22.0, 21.0, 20.0, 19.0, 18.0, 17.0, 16.0, 15.0, 14.0, 13.0, 12.0, 11.0, 10.0, 9.0, 8.0, 7.0, 6.0, 5.0, 4.0, 3.0, 2.0, 1.0, 0.4339, 0.4282, 0.4272, 0.4247, 0.4206, 0.4122, 0.412, 0.4113, 0.4109, 0.4108, 0.4083, 0.4065, 0.406, 0.4036, 0.4013, 0.4012, 0.401, 0.4002, 0.3993, 0.3991, 0.3967, 0.3953, 0.3936, 0.3936, 0.3922, 0.3911, 0.3878, 0.3876, 0.3872, 0.3869, 0.3433, 0.1202, 0.2706, 0.282, 0.1855, 0.2789, 0.1651, 0.2136, 0.1111, 0.3187, 0.2017, 0.2763, -0.1958, 0.0713, 0.0319, 0.9422, 0.9207, 0.9074, 0.9046, 0.9044, 0.8956, 0.8945, 0.893, 0.8925, 0.8871, 0.8849, 0.8836, 0.8805, 0.8765, 0.8738, 0.8728, 0.8722, 0.8722, 0.8716, 0.8655, 0.8654, 0.8654, 0.8654, 0.8654, 0.8654, 0.8654, 0.8653, 0.8632, 0.8629, 0.8624, 0.8588, 0.812, 0.8377, 0.7837, 0.8567, -0.2443, 0.2637, 0.4568, 0.4711, 0.3575, 0.4941, 0.4915, -1.8189, -0.4244, -0.3633, 0.2709, -0.2223, -0.0565]}, \"token.table\": {\"Topic\": [1, 1, 2, 2, 1, 1, 2, 1, 2, 1, 2, 1, 2, 1, 2, 1, 1, 2, 2, 2, 2, 2, 1, 1, 2, 1, 2, 1, 2, 1, 2, 1, 2, 1, 1, 2, 1, 2, 1, 2, 1, 1, 2, 1, 1, 2, 2, 1, 2, 1, 1, 1, 2, 2, 1, 2, 2, 1, 2, 1, 2, 1, 2, 2, 1, 2, 1, 2, 1, 2, 2, 2, 1, 2, 1, 1, 2, 1, 1, 2, 2, 2, 2, 1, 1, 1, 2, 1, 1, 1, 2, 1, 2, 2, 2, 2, 1, 1, 2, 1, 1, 2, 2, 1, 1, 2, 1, 1, 1, 2, 2, 1, 2, 1, 1, 2], \"Freq\": [0.8412113107477445, 0.48194501081491975, 0.48194501081491975, 0.9606199659135076, 0.8592550559918983, 0.7898367161534205, 0.23695101484602618, 0.1930142801826511, 0.9650714009132555, 0.1562784620406559, 0.9376707722439355, 0.9593437527625284, 0.8168796464551669, 0.9291529449288533, 0.8152033600292219, 0.9479908404778054, 0.9041786963555297, 1.022424482666165, 0.9621924371619127, 0.9606199834984154, 0.9606199536117388, 0.879834967052559, 0.9242332074677453, 0.7366774524239479, 0.2455591508079826, 0.9030633477054538, 0.9376158614933866, 0.3323170574828792, 0.6646341149657584, 0.9389989763884787, 0.05909783767479936, 0.17376681781676617, 0.8688340890838309, 0.9593061882120812, 0.24920816740088308, 0.8722285859030907, 0.4377084543827871, 0.547135567978484, 0.816700634288264, 0.1633401268576528, 0.9835822346850626, 0.8414774229752049, 0.16829548459504098, 0.9902509367238044, 0.19989923346958768, 0.7995969338783507, 0.9606199711966461, 0.7418824366467806, 0.24729414554892684, 1.0032278846855471, 0.9477963361800056, 0.7241994172193343, 0.2896797668877337, 0.9098069401652927, 0.789599136271993, 0.14356347932218055, 0.9002796242894601, 0.8846660208051254, 0.14744433680085423, 0.7094145329256462, 0.296664259223452, 0.9190286234893801, 0.08354805668085273, 0.8934578168319438, 0.8919558808103034, 0.9606055082204238, 0.7685541152974977, 0.2744836126062492, 0.8875281908729403, 0.9001016814478242, 0.8116231584968172, 0.9378764440126032, 0.3369065872858575, 0.673813174571715, 0.9826660373508272, 0.506920173006508, 0.506920173006508, 1.0005324542421115, 0.8814404491823908, 0.8522965080099936, 0.9606199588948773, 0.8528480488463183, 0.9606199536117388, 0.9453621360415445, 0.8413857755619394, 0.2248452557709032, 0.8993810230836128, 0.9208396375369334, 0.9040944199743451, 0.36916431232745506, 0.6152738538790917, 0.11978881291466853, 0.8385216904026798, 0.9981262223716902, 0.9969324690846996, 0.8293085293425105, 1.0029882728968167, 0.7903958210411623, 0.1975989552602906, 0.999936081285436, 0.9087270167483548, 0.7627532580380164, 0.8990290233576388, 0.998100714621264, 0.6046421654040002, 0.3023210827020001, 0.9291221048160193, 0.8412113000130039, 0.5247815991193931, 0.5247815991193931, 0.8718963007425509, 0.7185031086199867, 0.30792990369427997, 1.0084132604052076, 0.09712575112502499, 0.9712575112502498], \"Term\": [\"affect\", \"already\", \"already\", \"amusement\", \"benefit\", \"bill\", \"bill\", \"board\", \"board\", \"business\", \"business\", \"chance\", \"chief\", \"come\", \"company\", \"controversial\", \"corruption\", \"country\", \"debt\", \"department\", \"dividend\", \"early\", \"end\", \"expect\", \"expect\", \"face\", \"fast\", \"final\", \"final\", \"fund\", \"fund\", \"funding\", \"funding\", \"future\", \"get\", \"get\", \"go\", \"go\", \"good\", \"good\", \"government\", \"govt\", \"govt\", \"implementation\", \"implementing_rule\", \"implementing_rule\", \"include\", \"investment\", \"investment\", \"irr\", \"know\", \"landbank\", \"landbank\", \"last\", \"law\", \"law\", \"look\", \"m\", \"m\", \"maharlika\", \"maharlika\", \"make\", \"make\", \"management\", \"manager\", \"meet\", \"money\", \"money\", \"new\", \"next\", \"opinion\", \"pass\", \"people\", \"people\", \"petition\", \"philippine\", \"philippine\", \"play\", \"plunder\", \"political\", \"privatization\", \"probably\", \"proceed\", \"project\", \"question\", \"ready\", \"ready\", \"remit\", \"right\", \"say\", \"say\", \"scam\", \"scam\", \"see\", \"send\", \"sentral\", \"sign\", \"sovereign\", \"sovereign\", \"steal\", \"stock\", \"study\", \"support\", \"suspend\", \"take\", \"take\", \"tax\", \"taxis\", \"think\", \"think\", \"thought\", \"transfer\", \"transfer\", \"wealth\", \"well\", \"well\"]}, \"R\": 30, \"lambda.step\": 0.01, \"plot.opts\": {\"xlab\": \"PC1\", \"ylab\": \"PC2\"}, \"topic.order\": [2, 1]};\n",
              "\n",
              "function LDAvis_load_lib(url, callback){\n",
              "  var s = document.createElement('script');\n",
              "  s.src = url;\n",
              "  s.async = true;\n",
              "  s.onreadystatechange = s.onload = callback;\n",
              "  s.onerror = function(){console.warn(\"failed to load library \" + url);};\n",
              "  document.getElementsByTagName(\"head\")[0].appendChild(s);\n",
              "}\n",
              "\n",
              "if(typeof(LDAvis) !== \"undefined\"){\n",
              "   // already loaded: just create the visualization\n",
              "   !function(LDAvis){\n",
              "       new LDAvis(\"#\" + \"ldavis_el8821364898252906082410390412\", ldavis_el8821364898252906082410390412_data);\n",
              "   }(LDAvis);\n",
              "}else if(typeof define === \"function\" && define.amd){\n",
              "   // require.js is available: use it to load d3/LDAvis\n",
              "   require.config({paths: {d3: \"https://d3js.org/d3.v5\"}});\n",
              "   require([\"d3\"], function(d3){\n",
              "      window.d3 = d3;\n",
              "      LDAvis_load_lib(\"https://cdn.jsdelivr.net/gh/bmabey/pyLDAvis@3.4.0/pyLDAvis/js/ldavis.v3.0.0.js\", function(){\n",
              "        new LDAvis(\"#\" + \"ldavis_el8821364898252906082410390412\", ldavis_el8821364898252906082410390412_data);\n",
              "      });\n",
              "    });\n",
              "}else{\n",
              "    // require.js not available: dynamically load d3 & LDAvis\n",
              "    LDAvis_load_lib(\"https://d3js.org/d3.v5.js\", function(){\n",
              "         LDAvis_load_lib(\"https://cdn.jsdelivr.net/gh/bmabey/pyLDAvis@3.4.0/pyLDAvis/js/ldavis.v3.0.0.js\", function(){\n",
              "                 new LDAvis(\"#\" + \"ldavis_el8821364898252906082410390412\", ldavis_el8821364898252906082410390412_data);\n",
              "            })\n",
              "         });\n",
              "}\n",
              "</script>"
            ]
          },
          "metadata": {},
          "execution_count": 19
        }
      ]
    },
    {
      "cell_type": "markdown",
      "source": [
        "<h2> OPTIMIZATION"
      ],
      "metadata": {
        "id": "gVlaN_4pmWpE"
      }
    },
    {
      "cell_type": "code",
      "source": [
        "def compute_coherence_values(dictionary, corpus, texts, limit, start=2, step=3):\n",
        "  coherence_values = []\n",
        "  model_list = []\n",
        "\n",
        "  for num_topics in range(start, limit, step):\n",
        "    model = gensim.models.ldamodel.LdaModel(corpus=corpus, num_topics=num_topics, id2word=dictionary)\n",
        "    model_list.append(model)\n",
        "    coherencemodel = CoherenceModel(model=model, texts=texts, dictionary=dictionary, coherence='c_v')\n",
        "    coherence_values.append(coherencemodel.get_coherence())\n",
        "\n",
        "  return model_list, coherence_values"
      ],
      "metadata": {
        "id": "wq6qOZIQmXhd",
        "colab": {
          "base_uri": "https://localhost:8080/"
        },
        "outputId": "e6a225c5-a73f-4fcd-b55d-99797b84d5d4"
      },
      "execution_count": null,
      "outputs": [
        {
          "output_type": "stream",
          "name": "stderr",
          "text": [
            "/usr/local/lib/python3.10/dist-packages/ipykernel/ipkernel.py:283: DeprecationWarning: `should_run_async` will not call `transform_cell` automatically in the future. Please pass the result to `transformed_cell` argument and any exception that happen during thetransform in `preprocessing_exc_tuple` in IPython 7.17 and above.\n",
            "  and should_run_async(code)\n"
          ]
        }
      ]
    },
    {
      "cell_type": "code",
      "source": [
        "model_list, coherence_values = compute_coherence_values(dictionary=id2word, corpus=corpus, texts=texts, start=2, limit=20, step=1)"
      ],
      "metadata": {
        "colab": {
          "base_uri": "https://localhost:8080/"
        },
        "id": "QnTUBIKy5H1O",
        "outputId": "306e5aeb-e67c-400d-abf5-8b2d204e6a9e"
      },
      "execution_count": null,
      "outputs": [
        {
          "output_type": "stream",
          "name": "stderr",
          "text": [
            "/usr/local/lib/python3.10/dist-packages/ipykernel/ipkernel.py:283: DeprecationWarning: `should_run_async` will not call `transform_cell` automatically in the future. Please pass the result to `transformed_cell` argument and any exception that happen during thetransform in `preprocessing_exc_tuple` in IPython 7.17 and above.\n",
            "  and should_run_async(code)\n",
            "WARNING:gensim.models.ldamodel:too few updates, training might not converge; consider increasing the number of passes or iterations to improve accuracy\n",
            "WARNING:gensim.models.ldamodel:too few updates, training might not converge; consider increasing the number of passes or iterations to improve accuracy\n",
            "WARNING:gensim.models.ldamodel:too few updates, training might not converge; consider increasing the number of passes or iterations to improve accuracy\n",
            "WARNING:gensim.models.ldamodel:too few updates, training might not converge; consider increasing the number of passes or iterations to improve accuracy\n",
            "WARNING:gensim.models.ldamodel:too few updates, training might not converge; consider increasing the number of passes or iterations to improve accuracy\n",
            "WARNING:gensim.models.ldamodel:too few updates, training might not converge; consider increasing the number of passes or iterations to improve accuracy\n",
            "WARNING:gensim.models.ldamodel:too few updates, training might not converge; consider increasing the number of passes or iterations to improve accuracy\n",
            "WARNING:gensim.models.ldamodel:too few updates, training might not converge; consider increasing the number of passes or iterations to improve accuracy\n",
            "WARNING:gensim.models.ldamodel:too few updates, training might not converge; consider increasing the number of passes or iterations to improve accuracy\n",
            "WARNING:gensim.models.ldamodel:too few updates, training might not converge; consider increasing the number of passes or iterations to improve accuracy\n",
            "WARNING:gensim.models.ldamodel:too few updates, training might not converge; consider increasing the number of passes or iterations to improve accuracy\n",
            "WARNING:gensim.models.ldamodel:too few updates, training might not converge; consider increasing the number of passes or iterations to improve accuracy\n",
            "WARNING:gensim.models.ldamodel:too few updates, training might not converge; consider increasing the number of passes or iterations to improve accuracy\n",
            "WARNING:gensim.models.ldamodel:too few updates, training might not converge; consider increasing the number of passes or iterations to improve accuracy\n",
            "WARNING:gensim.models.ldamodel:too few updates, training might not converge; consider increasing the number of passes or iterations to improve accuracy\n",
            "WARNING:gensim.models.ldamodel:too few updates, training might not converge; consider increasing the number of passes or iterations to improve accuracy\n",
            "WARNING:gensim.models.ldamodel:too few updates, training might not converge; consider increasing the number of passes or iterations to improve accuracy\n",
            "WARNING:gensim.models.ldamodel:too few updates, training might not converge; consider increasing the number of passes or iterations to improve accuracy\n"
          ]
        }
      ]
    },
    {
      "cell_type": "code",
      "source": [
        "#show graph\n",
        "limit=20; start=2; step=1;\n",
        "x = range(start, limit, step)\n",
        "plt.plot(x, coherence_values)\n",
        "plt.xlabel(\"Num Topics\")\n",
        "plt.ylabel(\"Coherence score\")\n",
        "plt.legend((\"coherence_values\"), loc='best')\n",
        "plt.show()"
      ],
      "metadata": {
        "colab": {
          "base_uri": "https://localhost:8080/",
          "height": 504
        },
        "id": "0C6mxLs86RcI",
        "outputId": "ecebae40-a1e1-4702-dcdb-7e4d0faec7d8"
      },
      "execution_count": null,
      "outputs": [
        {
          "output_type": "stream",
          "name": "stderr",
          "text": [
            "/usr/local/lib/python3.10/dist-packages/ipykernel/ipkernel.py:283: DeprecationWarning: `should_run_async` will not call `transform_cell` automatically in the future. Please pass the result to `transformed_cell` argument and any exception that happen during thetransform in `preprocessing_exc_tuple` in IPython 7.17 and above.\n",
            "  and should_run_async(code)\n"
          ]
        },
        {
          "output_type": "display_data",
          "data": {
            "text/plain": [
              "<Figure size 640x480 with 1 Axes>"
            ],
            "image/png": "[encoded data removed]"
          },
          "metadata": {}
        }
      ]
    },
    {
      "cell_type": "code",
      "source": [
        "for m, cv in zip(x, coherence_values):\n",
        "  print(\"Num topics =\", m, \" has coherence value of\", round(cv,4))"
      ],
      "metadata": {
        "colab": {
          "base_uri": "https://localhost:8080/"
        },
        "id": "NxeY6tBw7EEk",
        "outputId": "3c816865-b954-439f-9145-8537e73048cc"
      },
      "execution_count": null,
      "outputs": [
        {
          "output_type": "stream",
          "name": "stdout",
          "text": [
            "Num topics = 2  has coherence value of 0.5475\n",
            "Num topics = 3  has coherence value of 0.5618\n",
            "Num topics = 4  has coherence value of 0.5719\n",
            "Num topics = 5  has coherence value of 0.5638\n",
            "Num topics = 6  has coherence value of 0.5416\n",
            "Num topics = 7  has coherence value of 0.5141\n",
            "Num topics = 8  has coherence value of 0.5324\n",
            "Num topics = 9  has coherence value of 0.5008\n",
            "Num topics = 10  has coherence value of 0.4742\n",
            "Num topics = 11  has coherence value of 0.5089\n",
            "Num topics = 12  has coherence value of 0.5332\n",
            "Num topics = 13  has coherence value of 0.4844\n",
            "Num topics = 14  has coherence value of 0.5085\n",
            "Num topics = 15  has coherence value of 0.5315\n",
            "Num topics = 16  has coherence value of 0.53\n",
            "Num topics = 17  has coherence value of 0.5126\n",
            "Num topics = 18  has coherence value of 0.5119\n",
            "Num topics = 19  has coherence value of 0.5026\n"
          ]
        },
        {
          "output_type": "stream",
          "name": "stderr",
          "text": [
            "/usr/local/lib/python3.10/dist-packages/ipykernel/ipkernel.py:283: DeprecationWarning: `should_run_async` will not call `transform_cell` automatically in the future. Please pass the result to `transformed_cell` argument and any exception that happen during thetransform in `preprocessing_exc_tuple` in IPython 7.17 and above.\n",
            "  and should_run_async(code)\n"
          ]
        }
      ]
    },
    {
      "cell_type": "code",
      "source": [
        "#select the optimal model and print the topics\n",
        "optimal_lda_model = model_list[4]\n",
        "model_topics = optimal_lda_model.show_topics(formatted=False)\n",
        "model_fin = optimal_lda_model.print_topics(num_words=10)\n",
        "model_fin"
      ],
      "metadata": {
        "colab": {
          "base_uri": "https://localhost:8080/"
        },
        "id": "zEIfly6Y831A",
        "outputId": "54d0a9f9-2ddb-4f5e-f6a1-8f2dab4abd2e"
      },
      "execution_count": null,
      "outputs": [
        {
          "output_type": "stream",
          "name": "stderr",
          "text": [
            "/usr/local/lib/python3.10/dist-packages/ipykernel/ipkernel.py:283: DeprecationWarning: `should_run_async` will not call `transform_cell` automatically in the future. Please pass the result to `transformed_cell` argument and any exception that happen during thetransform in `preprocessing_exc_tuple` in IPython 7.17 and above.\n",
            "  and should_run_async(code)\n"
          ]
        },
        {
          "output_type": "execute_result",
          "data": {
            "text/plain": [
              "[(0,\n",
              "  '0.048*\"maharlika\" + 0.028*\"fund\" + 0.012*\"investment\" + 0.012*\"money\" + 0.011*\"govt\" + 0.010*\"landbank\" + 0.010*\"final\" + 0.008*\"make\" + 0.007*\"end\" + 0.007*\"already\"'),\n",
              " (1,\n",
              "  '0.125*\"fund\" + 0.069*\"maharlika\" + 0.019*\"wealth\" + 0.015*\"philippine\" + 0.015*\"investment\" + 0.013*\"law\" + 0.013*\"sovereign\" + 0.011*\"suspend\" + 0.011*\"bill\" + 0.009*\"implementation\"'),\n",
              " (2,\n",
              "  '0.040*\"fund\" + 0.022*\"maharlika\" + 0.013*\"ready\" + 0.010*\"defend\" + 0.010*\"suspension\" + 0.010*\"bad\" + 0.010*\"economist\" + 0.010*\"board\" + 0.008*\"law\" + 0.007*\"irr\"'),\n",
              " (3,\n",
              "  '0.082*\"fund\" + 0.052*\"maharlika\" + 0.016*\"well\" + 0.013*\"scam\" + 0.009*\"philippine\" + 0.009*\"question\" + 0.007*\"think\" + 0.007*\"wealth\" + 0.007*\"new\" + 0.007*\"bill\"'),\n",
              " (4,\n",
              "  '0.041*\"fund\" + 0.013*\"funding\" + 0.011*\"budget\" + 0.010*\"suspend\" + 0.010*\"sentral\" + 0.009*\"philippine\" + 0.009*\"say\" + 0.009*\"management\" + 0.009*\"proceed\" + 0.009*\"include\"'),\n",
              " (5,\n",
              "  '0.054*\"fund\" + 0.019*\"maharlika\" + 0.019*\"get\" + 0.016*\"investment\" + 0.011*\"taxis\" + 0.011*\"steal\" + 0.010*\"affect\" + 0.010*\"government\" + 0.010*\"invest\" + 0.010*\"interest\"')]"
            ]
          },
          "metadata": {},
          "execution_count": 24
        }
      ]
    },
    {
      "cell_type": "code",
      "source": [
        "pyLDAvis.enable_notebook()\n",
        "vis = pyLDAvis.gensim.prepare(optimal_lda_model, corpus, id2word)\n",
        "vis"
      ],
      "metadata": {
        "colab": {
          "base_uri": "https://localhost:8080/",
          "height": 916
        },
        "id": "k6Qf2OFp913A",
        "outputId": "f39e3a26-4f4f-44f7-c365-e42b97b33a7a"
      },
      "execution_count": null,
      "outputs": [
        {
          "output_type": "stream",
          "name": "stderr",
          "text": [
            "/usr/local/lib/python3.10/dist-packages/ipykernel/ipkernel.py:283: DeprecationWarning: `should_run_async` will not call `transform_cell` automatically in the future. Please pass the result to `transformed_cell` argument and any exception that happen during thetransform in `preprocessing_exc_tuple` in IPython 7.17 and above.\n",
            "  and should_run_async(code)\n"
          ]
        },
        {
          "output_type": "execute_result",
          "data": {
            "text/plain": [
              "PreparedData(topic_coordinates=              x         y  topics  cluster       Freq\n",
              "topic                                                \n",
              "1      0.064300  0.118406       1        1  38.759018\n",
              "3      0.059598 -0.021732       2        1  14.405887\n",
              "0     -0.058651  0.022480       3        1  13.855095\n",
              "4      0.063630 -0.090645       4        1  11.734958\n",
              "5     -0.098400  0.001486       5        1  10.707881\n",
              "2     -0.030477 -0.029996       6        1  10.537160, topic_info=           Term        Freq       Total Category  logprob  loglift\n",
              "13    maharlika  100.000000  100.000000  Default  30.0000  30.0000\n",
              "143         get    8.000000    8.000000  Default  29.0000  29.0000\n",
              "0          fund  172.000000  172.000000  Default  28.0000  28.0000\n",
              "171        well    9.000000    9.000000  Default  27.0000  27.0000\n",
              "12   investment   21.000000   21.000000  Default  26.0000  26.0000\n",
              "..          ...         ...         ...      ...      ...      ...\n",
              "660     problem    0.824872    3.611635   Topic6  -5.6312   0.7736\n",
              "237         act    0.824829    2.827369   Topic6  -5.6312   1.0183\n",
              "194     finance    0.824606    7.422612   Topic6  -5.6315   0.0529\n",
              "56         give    0.824438    5.757296   Topic6  -5.6317   0.3067\n",
              "347     project    0.824393    6.638881   Topic6  -5.6318   0.1642\n",
              "\n",
              "[378 rows x 6 columns], token_table=      Topic      Freq        Term\n",
              "term                             \n",
              "624       2  0.708434        able\n",
              "446       4  0.701041  accelerate\n",
              "237       2  0.353686         act\n",
              "237       5  0.353686         act\n",
              "237       6  0.353686         act\n",
              "...     ...       ...         ...\n",
              "188       2  0.152561        year\n",
              "188       3  0.305123        year\n",
              "188       4  0.152561        year\n",
              "188       5  0.152561        year\n",
              "479       6  0.700635       yield\n",
              "\n",
              "[510 rows x 3 columns], R=30, lambda_step=0.01, plot_opts={'xlab': 'PC1', 'ylab': 'PC2'}, topic_order=[2, 4, 1, 5, 6, 3])"
            ],
            "text/html": [
              "\n",
              "<link rel=\"stylesheet\" type=\"text/css\" href=\"https://cdn.jsdelivr.net/gh/bmabey/pyLDAvis@3.4.0/pyLDAvis/js/ldavis.v1.0.0.css\">\n",
              "\n",
              "\n",
              "<div id=\"ldavis_el88213648982529116824347813\" style=\"background-color:white;\"></div>\n",
              "<script type=\"text/javascript\">\n",
              "\n",
              "var ldavis_el88213648982529116824347813_data = {\"mdsDat\": {\"x\": [0.06430005098486755, 0.05959810244132964, -0.058651029686339486, 0.06363044906208559, -0.09840026085807839, -0.030477311943864983], \"y\": [0.11840619271991829, -0.021732343384100395, 0.022480314054179662, -0.09064468552475997, 0.0014863082567316047, -0.029995786121969327], \"topics\": [1, 2, 3, 4, 5, 6], \"cluster\": [1, 1, 1, 1, 1, 1], \"Freq\": [38.75901824013083, 14.405886684443164, 13.855095381087768, 11.734958429012774, 10.707881403596351, 10.53715986172911]}, \"tinfo\": {\"Term\": [\"maharlika\", \"get\", \"fund\", \"well\", \"investment\", \"ready\", \"scam\", \"wealth\", \"implementation\", \"budget\", \"funding\", \"final\", \"taxis\", \"affect\", \"bad\", \"government\", \"invest\", \"interest\", \"govt\", \"defend\", \"steal\", \"go\", \"board\", \"economist\", \"sentral\", \"question\", \"suspension\", \"happen\", \"management\", \"irr\", \"fact\", \"craft\", \"operational\", \"wealth\", \"plan\", \"legislative\", \"set\", \"phase\", \"migrate\", \"sovereign\", \"want\", \"let\", \"decade\", \"rich\", \"many\", \"instability\", \"red\", \"especially\", \"flag\", \"liquidity\", \"balance\", \"mainly\", \"sheet\", \"process\", \"past\", \"explain\", \"test\", \"attack\", \"administration\", \"regulatory\", \"implementation\", \"present\", \"oppose\", \"fund\", \"petition\", \"political\", \"benefit\", \"maharlika\", \"law\", \"philippine\", \"suspend\", \"bill\", \"remit\", \"chief\", \"make\", \"controversial\", \"implementing_rule\", \"see\", \"investment\", \"sign\", \"say\", \"final\", \"landbank\", \"business\", \"debt\", \"finance\", \"end\", \"money\", \"question\", \"capitalize\", \"ask\", \"begin\", \"declare\", \"scam\", \"dangerous\", \"love\", \"poll\", \"coco\", \"path\", \"churn\", \"info\", \"manage\", \"correct\", \"revenue\", \"mp\", \"read\", \"fiscal\", \"deficit\", \"nagooppose\", \"recover\", \"eventually\", \"soon\", \"tour\", \"able\", \"beg\", \"backer\", \"bet\", \"world\", \"well\", \"company\", \"last\", \"face\", \"service\", \"analysis\", \"court\", \"divide\", \"pimentel\", \"think\", \"fund\", \"maharlika\", \"new\", \"regulation\", \"know\", \"big\", \"start\", \"back\", \"irr\", \"philippine\", \"bill\", \"wealth\", \"law\", \"take\", \"govt\", \"finance\", \"remit\", \"challenge\", \"text\", \"hit\", \"secrecy\", \"allege\", \"loan\", \"speech\", \"income\", \"event\", \"mandate\", \"term\", \"takeover\", \"unexpected\", \"weekly\", \"preparation\", \"digest\", \"fraudnaten\", \"credit\", \"terrible\", \"suisse\", \"none\", \"cycle\", \"wasteful\", \"cap\", \"prevent\", \"surprise\", \"card\", \"admin\", \"instinct\", \"couple\", \"arroyo\", \"mention\", \"share\", \"continue\", \"private\", \"final\", \"govt\", \"problem\", \"already\", \"money\", \"foreign\", \"maharlika\", \"case\", \"landbank\", \"contribution\", \"economic\", \"tax\", \"end\", \"investment\", \"business\", \"make\", \"happen\", \"fund\", \"sign\", \"give\", \"law\", \"sovereign\", \"philippine\", \"go\", \"bill\", \"year\", \"transfer\", \"get\", \"release\", \"manager\", \"budget\", \"proceed\", \"include\", \"department\", \"amusement\", \"privatization\", \"dividend\", \"effect\", \"sentral\", \"return\", \"concerned\", \"worst\", \"pagibig\", \"avenue\", \"additional\", \"corps\", \"mehnot\", \"skyrocket\", \"eat\", \"predict\", \"global\", \"forward\", \"background\", \"here\", \"accelerate\", \"slowdown\", \"shitty\", \"promote\", \"neutral\", \"buzz\", \"funding\", \"corruption\", \"study\", \"happen\", \"source\", \"management\", \"release\", \"crony\", \"m\", \"fund\", \"say\", \"implementation\", \"suspend\", \"bad\", \"money\", \"take\", \"give\", \"new\", \"expect\", \"government\", \"transfer\", \"philippine\", \"landbank\", \"maharlika\", \"implementing_rule\", \"transmission\", \"used\", \"taxis\", \"affect\", \"directly\", \"reimburse\", \"philhealth\", \"result\", \"different\", \"legally\", \"sell\", \"filipino\", \"choice\", \"treasure\", \"though\", \"ipos\", \"wonder\", \"peso\", \"work\", \"kind\", \"voluntary\", \"steal\", \"instead\", \"order\", \"rate\", \"tro\", \"diplomat\", \"businessman\", \"document\", \"express\", \"get\", \"therefore\", \"growth\", \"invest\", \"interest\", \"look\", \"government\", \"go\", \"fund\", \"economic\", \"challenge\", \"national\", \"investment\", \"dof\", \"example\", \"good\", \"future\", \"expect\", \"manager\", \"project\", \"maharlika\", \"finance\", \"see\", \"irr\", \"end\", \"philippine\", \"defend\", \"maybe\", \"ready\", \"villar\", \"skeptical\", \"repayment\", \"validity\", \"enter\", \"rise\", \"house\", \"osg\", \"edition\", \"haha\", \"news\", \"solgen\", \"failure\", \"sunstar\", \"cause\", \"principle\", \"depend\", \"thing\", \"expert\", \"shut\", \"yield\", \"point\", \"institution\", \"minimum\", \"allow\", \"forget\", \"rumor\", \"economist\", \"bad\", \"power\", \"suspension\", \"board\", \"success\", \"key\", \"draw\", \"fund\", \"stock\", \"file\", \"maharlika\", \"irr\", \"law\", \"govt\", \"tax\", \"m\", \"suspend\", \"investment\", \"wealth\", \"sovereign\", \"petition\", \"problem\", \"act\", \"finance\", \"give\", \"project\"], \"Freq\": [100.0, 8.0, 172.0, 9.0, 21.0, 5.0, 5.0, 19.0, 10.0, 3.0, 5.0, 7.0, 3.0, 3.0, 4.0, 6.0, 4.0, 4.0, 9.0, 2.0, 4.0, 7.0, 5.0, 4.0, 3.0, 3.0, 5.0, 4.0, 5.0, 7.0, 3.3245813125559254, 3.3234468600327154, 3.3226951571273085, 16.050360436249985, 2.5273473640457658, 2.5273022303369723, 2.526917706905287, 2.52635580208533, 2.5256616495858952, 10.9676607345782, 2.3619646441485407, 1.7306154048644136, 1.7304218620607668, 1.730397619937703, 1.7302817307640324, 1.7302332465179049, 1.7302125520226066, 1.7301887040804058, 1.7301766815640895, 1.7300164470433512, 1.7299898398351106, 1.7298668554059093, 1.7297103656033679, 1.7296790282247732, 1.729444687701824, 1.7293016000486183, 1.7291898497740077, 1.7291192913995619, 1.7290331628810347, 1.7288752934454734, 7.313132695879911, 2.2977169082262874, 2.28572375838441, 105.63198215799773, 6.515043374897422, 3.32652856601828, 3.324659360366765, 58.44219444958908, 11.29941832760438, 12.865750382997987, 9.10402328193103, 8.907107866821699, 4.113535886223312, 4.118819486508616, 6.702699481538996, 4.071041218306479, 4.919028317990515, 4.9223508684832655, 12.310346393830871, 3.3252297400752724, 4.922825462242106, 4.123335616654001, 4.925578421388075, 3.4110567102424407, 3.0063313122465956, 3.3237594454569357, 3.1466522099758483, 3.3281104138207964, 2.8741157457229303, 2.183157873844896, 2.18225538160899, 2.1822315007267736, 2.1814655543940917, 3.9970305756049087, 1.4946521143941938, 1.4944642905230197, 1.4943382932303444, 1.4942637204140983, 1.4940760430514042, 1.491097086130514, 1.4560954777507735, 2.182460200463827, 0.8052505288434184, 0.8052486242331803, 0.8052411523007077, 0.805206503045222, 0.8050603608365667, 0.8050205837842861, 0.8049636652398625, 0.8049391983237267, 0.8049244742215013, 0.8048537106257314, 0.8048303425231945, 0.8047487372999154, 0.8047356980452083, 0.8047152601122685, 0.804717750756426, 0.8046961407556474, 5.129164012056319, 2.1801582592283464, 1.8451503575988006, 2.1839356873644458, 1.4934605609275335, 1.4933130268883197, 1.48693038496344, 1.4946759952764102, 1.4939721685391871, 2.282695588549851, 25.825870191514504, 16.36606260946043, 2.1849996319451526, 1.3454934426471747, 1.9390085245736997, 1.4948742212496537, 1.4926026072695033, 1.8014103974465931, 2.1795533257150255, 2.8772319810894444, 2.1846461069832626, 2.185878389807322, 2.0590407244916404, 1.4970498721754995, 1.496874501525113, 1.4955683784272065, 1.4949967023388124, 1.4945239194743207, 1.5474667275592617, 1.5473041209864022, 1.5471802638134877, 1.5469472037861833, 1.5465742231983508, 1.5459897413402741, 0.8337537184232506, 0.8336940443473356, 0.8336714992419132, 0.8336603675961108, 0.8336517018212141, 0.8336033002980103, 0.8335837846911289, 0.83356525543261, 0.8335679326638789, 0.8335468670809997, 0.8335341854591997, 0.8335410194442808, 0.8335114994468683, 0.8334821203563647, 0.83345224809168, 0.8334542207884044, 0.8334332256589797, 0.8334091305775595, 0.8334045511030206, 0.8333755242797892, 0.8333609404147191, 0.8333678448532547, 0.8333291659067643, 0.8332666736926715, 1.5467872744445927, 1.5474780001119728, 1.5452642116663982, 1.4532314277523652, 2.975559940044879, 3.4741494554832335, 1.6225340378290904, 2.2616718540745717, 3.604908812422846, 1.5463382041259597, 14.42584078995891, 1.701334113022331, 3.1293203771641007, 1.9679557706070159, 1.5467623339217194, 1.5481983162302198, 2.262159814700059, 3.694431480661908, 1.9112931571487963, 2.3306198591051146, 1.5483769861906926, 8.477227925592127, 1.5467569794591813, 1.54855889701007, 1.989644866557948, 1.7329854683387127, 1.595062545058029, 1.5604310086186182, 1.55222966289357, 1.5493173989006261, 1.5492996446301062, 1.5490392486624769, 1.5485008433636072, 1.5473748562546652, 2.937408333387305, 2.2324711589208386, 2.2324589857281887, 2.2323064627849885, 2.2322821163996887, 2.232204064752699, 2.2321794796773475, 1.5255250496320791, 2.4630173449947397, 0.8226640012375311, 0.8226366115540691, 0.8226197242328932, 0.8225166698029609, 0.822505570715545, 0.8224901752071937, 0.8224540136643224, 0.8224431532669583, 0.8224330686122631, 0.8223103222530445, 0.8222616891549582, 0.8222194410157619, 0.8221659744441236, 0.8221228312172325, 0.8220782558500296, 0.8220108855828648, 0.8219777673381559, 0.8219303873628425, 0.8219238233864137, 0.8218494117627162, 0.8218463087920408, 3.218844670678667, 1.526339460089355, 2.2311674338570513, 2.229909298593188, 2.232271375347351, 2.232803415473162, 2.230025063268387, 1.5278613478606304, 1.5280707983812223, 10.478330016899593, 2.236826536298891, 2.2316390853997174, 2.6314568569296353, 1.5279273456599964, 2.230718696559373, 1.794095515742876, 1.5265392436628427, 1.526680786863653, 1.5285417338537326, 1.5265794629365974, 1.525030245154373, 2.2370504275676257, 1.7979291166673512, 1.82699046590825, 1.5280360689786625, 1.5351923089295818, 1.535089507698707, 2.4771925484166917, 2.4260465402651774, 1.2919674280700943, 1.2770657144772444, 1.2760386822649792, 1.254741948034544, 1.246602028962315, 0.8277147825485798, 0.8276312020986897, 0.8275330835510011, 0.8275115214284235, 0.8274967110816026, 0.8274526067399668, 0.8274039830645584, 0.8273932020032697, 0.8273476275169127, 0.8273302580292807, 0.8273343417646174, 0.8272017020408831, 2.466052554016746, 0.8271212252298488, 0.8270661220277062, 0.8269554255751808, 0.8269342446012347, 0.8268802848449864, 0.8268350370574563, 0.8268096089987601, 0.8267962687966603, 4.369962712901857, 1.2177042109248706, 1.535513127177629, 2.2458137670217595, 2.2435965709829806, 1.526809979327769, 2.2465344646339713, 2.2316711926030903, 12.642041479388977, 1.5358715157907734, 1.5359430628338715, 1.215294698176638, 3.6666210847702057, 1.5362490707350978, 1.1870710776183722, 1.5368566216535824, 1.2355234539418323, 1.5378937815294826, 1.5360331228104958, 1.5351427596074971, 4.398950046417881, 1.5371447700189365, 1.5359419738377817, 1.5384148661584391, 1.5360290935249636, 1.530068473427589, 2.2342140332863005, 1.524498081062251, 2.939061553900157, 0.8231126336558491, 0.8230955946810303, 0.8230517648653013, 0.8230259920763457, 0.8229942181390263, 0.8229313132445693, 0.8228694264020668, 0.8228384026082929, 0.8228493332713842, 0.8227982163469276, 0.8227759263672904, 0.8227336504203342, 0.8227395979870162, 0.8227192369479245, 0.8226563320534674, 0.8226620117117404, 0.8226028575350108, 0.8225830858944191, 0.8225731732832824, 0.8225476684027359, 0.8224549720931867, 0.8223852087434568, 0.8223056399459536, 0.822046090279216, 0.8219370515567117, 0.8218789690136186, 0.8218388899156169, 2.2335759826191843, 2.2337830222377377, 1.3838594545410563, 2.2341557364164797, 2.2328144797571543, 1.5284934527488634, 1.5284833793926813, 1.3960746848723573, 9.090465813201455, 1.528793831657148, 1.5290289480769754, 5.0770546746072, 1.6223064045471165, 1.9329135200743923, 1.3501884041950893, 1.0644910910559797, 0.9713445882162075, 1.1335290519775265, 1.057199267140419, 0.8293395216452316, 0.825501037122989, 0.8253438284685283, 0.8248722560868278, 0.8248289085062351, 0.8246061158732263, 0.8244380301373561, 0.8243927536162179], \"Total\": [100.0, 8.0, 172.0, 9.0, 21.0, 5.0, 5.0, 19.0, 10.0, 3.0, 5.0, 7.0, 3.0, 3.0, 4.0, 6.0, 4.0, 4.0, 9.0, 2.0, 4.0, 7.0, 5.0, 4.0, 3.0, 3.0, 5.0, 4.0, 5.0, 7.0, 3.9167211280788075, 3.9164362498224787, 3.9164967699902045, 19.472106226692425, 3.117866060127069, 3.1178571184996753, 3.117832700237416, 3.117651191993828, 3.1176923484985464, 14.003755827782935, 3.09858567411212, 2.3191385701230907, 2.3190902702724387, 2.319087695091593, 2.319070255072956, 2.31905596493731, 2.319039984000421, 2.319058196930814, 2.319048040872695, 2.3189979595978807, 2.318997261814313, 2.318991333735615, 2.318998914087315, 2.3189858016228397, 2.318872582456385, 2.318867847675737, 2.318939390822057, 2.3189009376562173, 2.318917315296478, 2.318840406530746, 10.027128422969207, 3.0909160239401223, 3.0895148265285157, 172.1459175845944, 9.242788990017573, 4.626584776454585, 4.6316031167049365, 100.53709303594175, 18.23854960346424, 21.22745347009503, 14.468713459884036, 14.424897773421034, 6.0954235517292625, 6.111069407865303, 10.689597685057677, 6.114605543373761, 7.615579341750931, 7.638432827646721, 21.9477133208041, 5.346584511600691, 9.74217840695193, 7.575240883281972, 11.879918665127235, 6.770313894145526, 5.276565341594379, 7.422611966498623, 8.846544439347008, 11.714500145673616, 3.483133840292322, 2.7926572215169854, 2.792540912303666, 2.7926433395746257, 2.792698468590701, 5.585581465271597, 2.1020833827500573, 2.1020875791595555, 2.1021256667035613, 2.102111663091091, 2.1021033212598046, 2.1022088821478473, 2.1082148342977143, 3.4981373232205795, 1.4115343876028512, 1.4115376462401337, 1.4115468044312465, 1.4115376043035788, 1.4115591426348402, 1.4115502717606006, 1.4115603342715806, 1.4115592205588108, 1.4115555686275678, 1.4115416589599814, 1.4115638630943947, 1.4115640994158556, 1.4115583492628827, 1.4115505440288407, 1.411555077187781, 1.4115489981670526, 9.360181004538369, 4.207609379205423, 3.509980134721234, 4.296939905537253, 2.8074253724428573, 2.808333689987975, 2.811922962240313, 2.901009328210251, 2.901086259211315, 5.055092202185131, 172.1459175845944, 100.53709303594175, 5.8008772884559034, 2.9241649659674973, 5.1116615129062675, 3.526598058029697, 3.526655122527769, 5.10940533233321, 7.758247460249664, 21.22745347009503, 14.424897773421034, 19.472106226692425, 18.23854960346424, 8.008860202306224, 9.395481570646828, 7.422611966498623, 6.0954235517292625, 4.320119539393094, 2.1508832686715875, 2.1509056854449344, 2.150851360913038, 2.150856641672046, 2.1508711527154993, 2.150863321509459, 1.4359635658014498, 1.435974419825553, 1.4359618184181078, 1.4359669620603115, 1.4359659579305772, 1.43596745613661, 1.4359739563616318, 1.4359534948009438, 1.4359691138636224, 1.435941037293861, 1.4359527245904224, 1.435970500781477, 1.4359605373776778, 1.4359309948545362, 1.4359126707225218, 1.4359326463025823, 1.4359475729656788, 1.4359309558521722, 1.4359311422506187, 1.4359619060785755, 1.4359487265121205, 1.4359670844333634, 1.4359459776034655, 1.4359532830329833, 2.8562876116750626, 2.9496581580589747, 2.9498209155801325, 2.9486198977654077, 7.575240883281972, 9.395481570646828, 3.6116347464606995, 5.879444767329584, 11.714500145673616, 3.5371540972688345, 100.53709303594175, 4.403017485632595, 11.879918665127235, 5.849489544408788, 4.276308460948401, 4.35762629084364, 8.846544439347008, 21.9477133208041, 6.770313894145526, 10.689597685057677, 4.957486045901737, 172.1459175845944, 5.346584511600691, 5.7572960189621405, 18.23854960346424, 14.003755827782935, 21.22745347009503, 7.351052994433349, 14.424897773421034, 6.5547419049314755, 6.6489156694906, 8.006351910003215, 7.35364461792995, 6.564769903069967, 3.542647956817146, 2.8372099842762677, 2.837214576765313, 2.8371722651288525, 2.8372044638596585, 2.8371807975453662, 2.837185949892253, 2.1318781413777934, 3.532582346980262, 1.4264624863421163, 1.4264522682315497, 1.4264442838578286, 1.4264289560823638, 1.4264221733128728, 1.4264368519692734, 1.426433924297197, 1.426441492231778, 1.4264463190370424, 1.4264342672547068, 1.426413117894138, 1.4264504169903163, 1.4264382265560052, 1.4263978449579104, 1.4264563725915953, 1.426449101230099, 1.4264470138622285, 1.4264347286623114, 1.426444336279639, 1.4264376752972145, 1.4264352631903405, 5.663581720951483, 2.8223153762907995, 4.3266016742825055, 4.957486045901737, 5.125544770245692, 5.140974710802321, 7.35364461792995, 4.23817037479234, 4.262755182058596, 172.1459175845944, 9.74217840695193, 10.027128422969207, 14.468713459884036, 4.9559220005327065, 11.714500145673616, 8.008860202306224, 5.7572960189621405, 5.8008772884559034, 6.569733571048475, 6.5489489675056065, 6.6489156694906, 21.22745347009503, 11.879918665127235, 100.53709303594175, 7.615579341750931, 2.1402925739160383, 2.1402794708521906, 3.563029417620345, 3.5634114312279217, 2.142088136310893, 2.1421881691745925, 2.142188757530588, 2.1423011011100104, 2.142387579488503, 1.4306690092923564, 1.430660322145937, 1.43063720402185, 1.43064545125778, 1.4306592143936478, 1.4306551365326738, 1.4306082816129235, 1.4306505963107092, 1.4305939239037089, 1.4306343451014425, 1.430647085523771, 1.4306330112324455, 4.265412937967924, 1.4306657232340403, 1.4306595381151357, 1.4306412705759826, 1.4306436942558691, 1.430640981080281, 1.4306704614750794, 1.43065546533002, 1.4306723369003431, 8.006351910003215, 2.1425942214503895, 2.845643788621805, 4.35484278870036, 4.3551460727234605, 2.855127668108428, 6.5489489675056065, 7.351052994433349, 172.1459175845944, 4.276308460948401, 4.320119539393094, 2.8479319242112764, 21.9477133208041, 4.536893239011032, 2.84677424409774, 5.158317440277424, 3.6317348584737656, 6.569733571048475, 6.564769903069967, 6.638881485274422, 100.53709303594175, 7.422611966498623, 7.638432827646721, 7.758247460249664, 8.846544439347008, 21.22745347009503, 2.8397046466261613, 2.133453083694308, 5.035292048004612, 1.427257898511404, 1.427270341022631, 1.4272819268208545, 1.4272500589652053, 1.427250378359315, 1.4272326718020976, 1.4272491240815612, 1.4272227455533635, 1.4272510826961706, 1.4272399457415723, 1.4272496337475844, 1.4272072065299795, 1.4272554461392315, 1.4272431956697968, 1.427246665926925, 1.4272681707902595, 1.42725569837259, 1.4272826964812908, 1.4272684178566546, 1.4272617404781984, 1.4272771279720724, 1.427216745371807, 1.4272328700860233, 1.4272573694353516, 1.427247289436314, 1.427270501156717, 1.42724067906694, 4.242645789085017, 4.9559220005327065, 2.92916334490262, 5.857726066663126, 5.914670037069374, 3.6228085523642615, 3.6228935193276754, 3.5352401167745624, 172.1459175845944, 5.117786540565432, 5.244988051364703, 100.53709303594175, 7.758247460249664, 18.23854960346424, 9.395481570646828, 4.35762629084364, 4.262755182058596, 14.468713459884036, 21.9477133208041, 19.472106226692425, 14.003755827782935, 9.242788990017573, 3.6116347464606995, 2.8273693438175287, 7.422611966498623, 5.7572960189621405, 6.638881485274422], \"Category\": [\"Default\", \"Default\", \"Default\", \"Default\", \"Default\", \"Default\", \"Default\", \"Default\", \"Default\", \"Default\", \"Default\", \"Default\", \"Default\", \"Default\", \"Default\", \"Default\", \"Default\", \"Default\", \"Default\", \"Default\", \"Default\", \"Default\", \"Default\", \"Default\", \"Default\", \"Default\", \"Default\", \"Default\", \"Default\", \"Default\", \"Topic1\", \"Topic1\", \"Topic1\", \"Topic1\", \"Topic1\", \"Topic1\", \"Topic1\", \"Topic1\", \"Topic1\", \"Topic1\", \"Topic1\", \"Topic1\", \"Topic1\", \"Topic1\", \"Topic1\", \"Topic1\", \"Topic1\", \"Topic1\", \"Topic1\", \"Topic1\", \"Topic1\", \"Topic1\", \"Topic1\", \"Topic1\", \"Topic1\", \"Topic1\", \"Topic1\", \"Topic1\", \"Topic1\", \"Topic1\", \"Topic1\", \"Topic1\", \"Topic1\", \"Topic1\", \"Topic1\", \"Topic1\", \"Topic1\", \"Topic1\", \"Topic1\", \"Topic1\", \"Topic1\", \"Topic1\", \"Topic1\", \"Topic1\", \"Topic1\", \"Topic1\", \"Topic1\", \"Topic1\", \"Topic1\", \"Topic1\", \"Topic1\", \"Topic1\", \"Topic1\", \"Topic1\", \"Topic1\", \"Topic1\", \"Topic1\", \"Topic1\", \"Topic2\", \"Topic2\", \"Topic2\", \"Topic2\", \"Topic2\", \"Topic2\", \"Topic2\", \"Topic2\", \"Topic2\", \"Topic2\", \"Topic2\", \"Topic2\", \"Topic2\", \"Topic2\", \"Topic2\", \"Topic2\", \"Topic2\", \"Topic2\", \"Topic2\", \"Topic2\", \"Topic2\", \"Topic2\", \"Topic2\", \"Topic2\", \"Topic2\", \"Topic2\", \"Topic2\", \"Topic2\", \"Topic2\", \"Topic2\", \"Topic2\", \"Topic2\", \"Topic2\", \"Topic2\", \"Topic2\", \"Topic2\", \"Topic2\", \"Topic2\", \"Topic2\", \"Topic2\", \"Topic2\", \"Topic2\", \"Topic2\", \"Topic2\", \"Topic2\", \"Topic2\", \"Topic2\", \"Topic2\", \"Topic2\", \"Topic2\", \"Topic2\", \"Topic2\", \"Topic2\", \"Topic2\", \"Topic2\", \"Topic2\", \"Topic2\", \"Topic2\", \"Topic3\", \"Topic3\", \"Topic3\", \"Topic3\", \"Topic3\", \"Topic3\", \"Topic3\", \"Topic3\", \"Topic3\", \"Topic3\", \"Topic3\", \"Topic3\", \"Topic3\", \"Topic3\", \"Topic3\", \"Topic3\", \"Topic3\", \"Topic3\", \"Topic3\", \"Topic3\", \"Topic3\", \"Topic3\", \"Topic3\", \"Topic3\", \"Topic3\", \"Topic3\", \"Topic3\", \"Topic3\", \"Topic3\", \"Topic3\", \"Topic3\", \"Topic3\", \"Topic3\", \"Topic3\", \"Topic3\", \"Topic3\", \"Topic3\", \"Topic3\", \"Topic3\", \"Topic3\", \"Topic3\", \"Topic3\", \"Topic3\", \"Topic3\", \"Topic3\", \"Topic3\", \"Topic3\", \"Topic3\", \"Topic3\", \"Topic3\", \"Topic3\", \"Topic3\", \"Topic3\", \"Topic3\", \"Topic3\", \"Topic3\", \"Topic3\", \"Topic3\", \"Topic3\", \"Topic3\", \"Topic3\", \"Topic3\", \"Topic3\", \"Topic3\", \"Topic4\", \"Topic4\", \"Topic4\", \"Topic4\", \"Topic4\", \"Topic4\", \"Topic4\", \"Topic4\", \"Topic4\", \"Topic4\", \"Topic4\", \"Topic4\", \"Topic4\", \"Topic4\", \"Topic4\", \"Topic4\", \"Topic4\", \"Topic4\", \"Topic4\", \"Topic4\", \"Topic4\", \"Topic4\", \"Topic4\", \"Topic4\", \"Topic4\", \"Topic4\", \"Topic4\", \"Topic4\", \"Topic4\", \"Topic4\", \"Topic4\", \"Topic4\", \"Topic4\", \"Topic4\", \"Topic4\", \"Topic4\", \"Topic4\", \"Topic4\", \"Topic4\", \"Topic4\", \"Topic4\", \"Topic4\", \"Topic4\", \"Topic4\", \"Topic4\", \"Topic4\", \"Topic4\", \"Topic4\", \"Topic4\", \"Topic4\", \"Topic4\", \"Topic4\", \"Topic4\", \"Topic4\", \"Topic4\", \"Topic5\", \"Topic5\", \"Topic5\", \"Topic5\", \"Topic5\", \"Topic5\", \"Topic5\", \"Topic5\", \"Topic5\", \"Topic5\", \"Topic5\", \"Topic5\", \"Topic5\", \"Topic5\", \"Topic5\", \"Topic5\", \"Topic5\", \"Topic5\", \"Topic5\", \"Topic5\", \"Topic5\", \"Topic5\", \"Topic5\", \"Topic5\", \"Topic5\", \"Topic5\", \"Topic5\", \"Topic5\", \"Topic5\", \"Topic5\", \"Topic5\", \"Topic5\", \"Topic5\", \"Topic5\", \"Topic5\", \"Topic5\", \"Topic5\", \"Topic5\", \"Topic5\", \"Topic5\", \"Topic5\", \"Topic5\", \"Topic5\", \"Topic5\", \"Topic5\", \"Topic5\", \"Topic5\", \"Topic5\", \"Topic5\", \"Topic5\", \"Topic5\", \"Topic5\", \"Topic5\", \"Topic5\", \"Topic5\", \"Topic5\", \"Topic6\", \"Topic6\", \"Topic6\", \"Topic6\", \"Topic6\", \"Topic6\", \"Topic6\", \"Topic6\", \"Topic6\", \"Topic6\", \"Topic6\", \"Topic6\", \"Topic6\", \"Topic6\", \"Topic6\", \"Topic6\", \"Topic6\", \"Topic6\", \"Topic6\", \"Topic6\", \"Topic6\", \"Topic6\", \"Topic6\", \"Topic6\", \"Topic6\", \"Topic6\", \"Topic6\", \"Topic6\", \"Topic6\", \"Topic6\", \"Topic6\", \"Topic6\", \"Topic6\", \"Topic6\", \"Topic6\", \"Topic6\", \"Topic6\", \"Topic6\", \"Topic6\", \"Topic6\", \"Topic6\", \"Topic6\", \"Topic6\", \"Topic6\", \"Topic6\", \"Topic6\", \"Topic6\", \"Topic6\", \"Topic6\", \"Topic6\", \"Topic6\", \"Topic6\", \"Topic6\", \"Topic6\", \"Topic6\", \"Topic6\", \"Topic6\"], \"logprob\": [30.0, 29.0, 28.0, 27.0, 26.0, 25.0, 24.0, 23.0, 22.0, 21.0, 20.0, 19.0, 18.0, 17.0, 16.0, 15.0, 14.0, 13.0, 12.0, 11.0, 10.0, 9.0, 8.0, 7.0, 6.0, 5.0, 4.0, 3.0, 2.0, 1.0, -5.5398, -5.5401, -5.5403, -3.9654, -5.8139, -5.814, -5.8141, -5.8143, -5.8146, -4.3462, -5.8816, -6.1926, -6.1927, -6.1928, -6.1928, -6.1929, -6.1929, -6.1929, -6.1929, -6.193, -6.193, -6.1931, -6.1932, -6.1932, -6.1933, -6.1934, -6.1935, -6.1935, -6.1935, -6.1936, -4.7514, -5.9092, -5.9144, -2.0811, -4.867, -5.5392, -5.5397, -2.6731, -4.3164, -4.1865, -4.5324, -4.5543, -5.3268, -5.3255, -4.8386, -5.3372, -5.148, -5.1473, -4.2307, -5.5396, -5.1472, -5.3244, -5.1467, -5.5141, -5.6404, -5.54, -5.5948, -5.5387, -4.6956, -4.9706, -4.971, -4.971, -4.9714, -4.3658, -5.3495, -5.3496, -5.3497, -5.3497, -5.3499, -5.3519, -5.3756, -4.9709, -5.968, -5.968, -5.968, -5.968, -5.9682, -5.9683, -5.9683, -5.9684, -5.9684, -5.9685, -5.9685, -5.9686, -5.9686, -5.9686, -5.9686, -5.9687, -4.1164, -4.972, -5.1388, -4.9703, -5.3503, -5.3504, -5.3547, -5.3495, -5.3499, -4.926, -2.5, -2.9562, -4.9698, -5.4546, -5.0892, -5.3493, -5.3509, -5.1628, -4.9723, -4.6946, -4.9699, -4.9694, -5.0291, -5.3479, -5.348, -5.3489, -5.3493, -5.3496, -5.2758, -5.2759, -5.276, -5.2761, -5.2764, -5.2767, -5.8942, -5.8943, -5.8943, -5.8943, -5.8943, -5.8944, -5.8944, -5.8944, -5.8944, -5.8945, -5.8945, -5.8945, -5.8945, -5.8945, -5.8946, -5.8946, -5.8946, -5.8946, -5.8946, -5.8947, -5.8947, -5.8947, -5.8947, -5.8948, -5.2762, -5.2758, -5.2772, -5.3386, -4.622, -4.467, -5.2284, -4.8963, -4.4301, -5.2765, -3.0434, -5.181, -4.5716, -5.0354, -5.2762, -5.2753, -4.8961, -4.4056, -5.0646, -4.8663, -5.2752, -3.575, -5.2762, -5.2751, -5.0244, -5.1626, -5.2455, -5.2674, -5.2727, -5.2746, -5.2746, -5.2748, -5.2751, -5.2758, -4.4688, -4.7432, -4.7432, -4.7433, -4.7433, -4.7433, -4.7433, -5.124, -4.6449, -5.7415, -5.7416, -5.7416, -5.7417, -5.7417, -5.7417, -5.7418, -5.7418, -5.7418, -5.742, -5.742, -5.7421, -5.7421, -5.7422, -5.7422, -5.7423, -5.7424, -5.7424, -5.7424, -5.7425, -5.7425, -4.3773, -5.1234, -4.7438, -4.7444, -4.7433, -4.7431, -4.7443, -5.1224, -5.1223, -3.197, -4.7413, -4.7436, -4.5788, -5.1224, -4.744, -4.9618, -5.1233, -5.1232, -5.122, -5.1233, -5.1243, -4.7412, -4.9597, -4.9436, -5.1223, -5.0261, -5.0261, -4.5476, -4.5685, -5.1986, -5.2102, -5.211, -5.2278, -5.2343, -5.6438, -5.6439, -5.644, -5.6441, -5.6441, -5.6441, -5.6442, -5.6442, -5.6443, -5.6443, -5.6443, -5.6444, -4.5521, -5.6445, -5.6446, -5.6447, -5.6448, -5.6448, -5.6449, -5.6449, -5.6449, -3.98, -5.2578, -5.0259, -4.6457, -4.6466, -5.0315, -4.6453, -4.652, -2.9177, -5.0256, -5.0256, -5.2597, -4.1555, -5.0254, -5.2832, -5.025, -5.2432, -5.0243, -5.0255, -5.0261, -3.9734, -5.0248, -5.0256, -5.024, -5.0255, -5.0294, -4.6348, -5.017, -4.3606, -5.6333, -5.6333, -5.6334, -5.6334, -5.6335, -5.6335, -5.6336, -5.6336, -5.6336, -5.6337, -5.6337, -5.6338, -5.6338, -5.6338, -5.6339, -5.6339, -5.6339, -5.634, -5.634, -5.634, -5.6341, -5.6342, -5.6343, -5.6346, -5.6347, -5.6348, -5.6349, -4.635, -4.635, -5.1138, -4.6348, -4.6354, -5.0144, -5.0144, -5.105, -3.2314, -5.0142, -5.014, -3.8139, -4.9548, -4.7796, -5.1384, -5.3762, -5.4677, -5.3133, -5.383, -5.6258, -5.6304, -5.6306, -5.6312, -5.6312, -5.6315, -5.6317, -5.6318], \"loglift\": [30.0, 29.0, 28.0, 27.0, 26.0, 25.0, 24.0, 23.0, 22.0, 21.0, 20.0, 19.0, 18.0, 17.0, 16.0, 15.0, 14.0, 13.0, 12.0, 11.0, 10.0, 9.0, 8.0, 7.0, 6.0, 5.0, 4.0, 3.0, 2.0, 1.0, 0.7839, 0.7836, 0.7834, 0.7546, 0.7378, 0.7378, 0.7377, 0.7375, 0.7372, 0.7034, 0.6764, 0.6551, 0.655, 0.655, 0.6549, 0.6549, 0.6549, 0.6549, 0.6549, 0.6548, 0.6548, 0.6547, 0.6546, 0.6546, 0.6545, 0.6544, 0.6543, 0.6543, 0.6543, 0.6542, 0.6322, 0.6513, 0.6465, 0.4594, 0.5981, 0.6179, 0.6163, 0.4053, 0.469, 0.4471, 0.4845, 0.4657, 0.5546, 0.5533, 0.481, 0.541, 0.5107, 0.5084, 0.3696, 0.4729, 0.2652, 0.3396, 0.0674, 0.2623, 0.3853, 0.1444, -0.0859, -0.3106, 1.7453, 1.6913, 1.6909, 1.6909, 1.6905, 1.6029, 1.5965, 1.5964, 1.5963, 1.5962, 1.5961, 1.5941, 1.5675, 1.4658, 1.3763, 1.3762, 1.3762, 1.3762, 1.376, 1.376, 1.3759, 1.3758, 1.3758, 1.3758, 1.3757, 1.3756, 1.3756, 1.3756, 1.3756, 1.3756, 1.336, 1.28, 1.2945, 1.2608, 1.3064, 1.3059, 1.3004, 1.2744, 1.2739, 1.1425, 0.0406, 0.1222, 0.9611, 1.1613, 0.9682, 1.0792, 1.0777, 0.895, 0.6679, -0.0609, 0.05, -0.2494, -0.2438, 0.2605, 0.1007, 0.3355, 0.5321, 0.8761, 1.6473, 1.6471, 1.6471, 1.6469, 1.6467, 1.6463, 1.4329, 1.4328, 1.4328, 1.4327, 1.4327, 1.4327, 1.4327, 1.4326, 1.4326, 1.4326, 1.4326, 1.4326, 1.4326, 1.4326, 1.4325, 1.4325, 1.4325, 1.4325, 1.4325, 1.4324, 1.4324, 1.4324, 1.4324, 1.4323, 1.3632, 1.3315, 1.33, 1.269, 1.0421, 0.9816, 1.1763, 1.0212, 0.798, 1.1491, 0.035, 1.0256, 0.6425, 0.8872, 0.9596, 0.9417, 0.6128, 0.1947, 0.7117, 0.4534, 0.8128, -1.0344, 0.7362, 0.6634, -0.2391, -0.113, -0.6119, 0.4266, -0.2527, 0.5341, 0.5199, 0.3339, 0.4186, 0.5314, 1.9553, 1.9029, 1.9029, 1.9028, 1.9028, 1.9028, 1.9028, 1.8079, 1.782, 1.5922, 1.5922, 1.5922, 1.592, 1.592, 1.592, 1.592, 1.5919, 1.5919, 1.5918, 1.5917, 1.5917, 1.5916, 1.5916, 1.5915, 1.5914, 1.5914, 1.5913, 1.5913, 1.5912, 1.5912, 1.5776, 1.5279, 1.4803, 1.3437, 1.3114, 1.3086, 0.9494, 1.1223, 1.1167, -0.6564, 0.6712, 0.64, 0.4381, 0.9659, 0.4841, 0.6466, 0.8151, 0.8077, 0.6844, 0.6863, 0.6702, -0.1075, 0.2544, -1.8653, 0.5364, 1.9019, 1.9018, 1.8707, 1.8497, 1.7286, 1.7169, 1.7161, 1.6992, 1.6927, 1.687, 1.6869, 1.6868, 1.6867, 1.6867, 1.6867, 1.6866, 1.6866, 1.6866, 1.6865, 1.6865, 1.6864, 1.6863, 1.6862, 1.6862, 1.6861, 1.686, 1.686, 1.6859, 1.6859, 1.6858, 1.6287, 1.6691, 1.6173, 1.572, 1.5709, 1.6083, 1.1643, 1.0421, -0.3771, 1.2102, 1.2001, 1.3826, 0.4448, 1.1513, 1.3595, 1.0233, 1.156, 0.7821, 0.7817, 0.7699, -0.895, 0.6596, 0.6301, 0.6162, 0.4834, -0.3958, 2.0105, 1.9142, 1.7119, 1.6998, 1.6998, 1.6998, 1.6997, 1.6997, 1.6996, 1.6996, 1.6995, 1.6995, 1.6995, 1.6994, 1.6994, 1.6994, 1.6994, 1.6993, 1.6993, 1.6992, 1.6992, 1.6992, 1.6992, 1.699, 1.699, 1.6989, 1.6985, 1.6984, 1.6983, 1.6983, 1.6087, 1.4534, 1.5004, 1.2864, 1.2761, 1.3873, 1.3873, 1.3211, -0.6909, 1.042, 1.0176, -0.7355, 0.6854, 0.0058, 0.3103, 0.8408, 0.7713, -0.2964, -0.7828, -0.9058, -0.5808, -0.1655, 0.7736, 1.0183, 0.0529, 0.3067, 0.1642]}, \"token.table\": {\"Topic\": [2, 4, 2, 5, 6, 4, 3, 1, 3, 5, 3, 6, 1, 3, 5, 6, 4, 2, 6, 3, 2, 1, 4, 1, 2, 3, 4, 2, 4, 3, 4, 6, 1, 2, 2, 1, 3, 2, 2, 3, 5, 1, 2, 3, 4, 5, 1, 3, 6, 4, 1, 3, 4, 5, 4, 3, 2, 3, 1, 2, 3, 6, 1, 2, 5, 1, 2, 4, 5, 2, 2, 2, 4, 5, 4, 1, 3, 1, 2, 3, 4, 1, 2, 3, 4, 2, 2, 4, 3, 2, 5, 1, 3, 2, 4, 5, 6, 3, 2, 1, 2, 6, 1, 2, 6, 2, 4, 6, 5, 3, 5, 5, 1, 2, 4, 5, 1, 5, 2, 5, 6, 4, 3, 5, 6, 2, 4, 6, 6, 4, 1, 2, 3, 5, 6, 1, 3, 2, 5, 6, 1, 3, 4, 5, 6, 6, 1, 5, 1, 2, 4, 1, 6, 1, 3, 6, 5, 1, 3, 1, 2, 5, 6, 2, 1, 2, 3, 6, 4, 3, 1, 2, 3, 4, 5, 6, 2, 3, 4, 5, 1, 2, 5, 1, 3, 5, 1, 2, 3, 4, 6, 4, 1, 3, 4, 5, 1, 3, 4, 5, 1, 2, 4, 5, 1, 2, 3, 5, 6, 4, 5, 6, 2, 3, 4, 4, 3, 6, 1, 4, 1, 2, 4, 4, 3, 2, 1, 5, 3, 6, 1, 5, 6, 1, 5, 6, 1, 2, 3, 5, 6, 5, 2, 3, 4, 5, 6, 1, 2, 6, 5, 1, 2, 5, 1, 2, 3, 4, 6, 2, 4, 1, 2, 3, 4, 6, 5, 1, 1, 1, 3, 3, 5, 2, 3, 4, 6, 1, 2, 3, 4, 5, 6, 1, 1, 3, 4, 2, 4, 1, 4, 6, 1, 2, 3, 5, 6, 3, 1, 6, 4, 3, 4, 1, 6, 1, 2, 3, 4, 5, 6, 2, 2, 4, 5, 4, 1, 2, 4, 6, 3, 1, 1, 5, 6, 4, 1, 2, 5, 1, 3, 5, 6, 1, 5, 1, 2, 3, 4, 5, 1, 2, 1, 6, 1, 5, 2, 1, 6, 4, 3, 1, 3, 6, 1, 3, 4, 1, 3, 6, 4, 1, 1, 2, 4, 5, 6, 4, 2, 5, 2, 1, 2, 6, 2, 1, 1, 2, 1, 5, 1, 2, 3, 4, 1, 2, 6, 5, 4, 2, 1, 6, 6, 1, 2, 3, 4, 6, 2, 5, 3, 1, 5, 6, 5, 2, 4, 2, 4, 1, 1, 3, 1, 4, 6, 1, 3, 6, 4, 4, 6, 2, 1, 2, 4, 1, 3, 6, 3, 2, 3, 5, 3, 5, 1, 4, 5, 6, 1, 2, 4, 1, 2, 6, 3, 6, 3, 1, 2, 3, 4, 6, 1, 3, 4, 6, 1, 2, 3, 4, 6, 3, 1, 2, 3, 6, 3, 5, 3, 3, 1, 3, 5, 6, 1, 2, 4, 5, 2, 1, 2, 3, 4, 5, 5, 5, 3, 5, 6, 6, 5, 1, 3, 1, 2, 6, 3, 1, 2, 6, 5, 5, 2, 4, 1, 2, 3, 4, 5, 6], \"Freq\": [0.7084339991459316, 0.7010414876616695, 0.35368566267673923, 0.35368566267673923, 0.35368566267673923, 0.7010475077248921, 0.6964036957147991, 0.862471458903353, 0.280629957920803, 0.561259915841606, 0.9298620657698636, 0.7006494301313029, 0.34016817559260626, 0.34016817559260626, 0.17008408779630313, 0.17008408779630313, 0.7049192349286144, 0.35608304083133435, 0.35608304083133435, 0.6964014859089468, 0.7161936253783043, 0.8624775502576923, 0.7010547218832801, 0.391434985074222, 0.391434985074222, 0.195717492537111, 0.195717492537111, 0.7084408023716989, 0.7010666789317167, 0.2017788011781685, 0.403557602356337, 0.403557602356337, 0.8624417255392793, 0.7084368850371655, 0.7161673571622788, 0.6477238926582058, 0.21590796421940195, 0.7084385272392518, 0.2835593916701406, 0.2835593916701406, 0.2835593916701406, 0.6239212326747425, 0.13864916281660944, 0.13864916281660944, 0.06932458140830472, 0.06932458140830472, 0.33814227800794927, 0.16907113900397464, 0.33814227800794927, 0.8468241938144251, 0.4431109172935366, 0.29540727819569107, 0.14770363909784553, 0.6989729828970952, 0.7010482885591437, 0.6964042551600186, 0.7161637971858179, 0.6963973039722686, 0.22711697222713323, 0.22711697222713323, 0.45423394445426646, 0.7006497362181963, 0.23147507629857939, 0.23147507629857939, 0.46295015259715877, 0.6545499213037519, 0.16363748032593797, 0.16363748032593797, 0.6989852021832735, 0.4756901221815266, 0.4757121220332941, 0.47532929503491256, 0.23766464751745628, 0.23766464751745628, 0.7010399312132289, 0.33900363059949795, 0.6780072611989959, 0.34191017606172014, 0.17095508803086007, 0.34191017606172014, 0.17095508803086007, 0.6541713887553541, 0.16354284718883852, 0.16354284718883852, 0.7010489465838379, 0.7084489111868237, 0.35431901353074163, 0.7086380270614833, 0.6964050288778681, 0.3556285194965942, 0.3556285194965942, 0.7660025106079492, 0.6964017567397496, 0.2359508730342153, 0.4719017460684306, 0.2359508730342153, 0.2359508730342153, 0.6964211824224801, 0.47571852201778353, 0.5685516630205347, 0.1895172210068449, 0.1895172210068449, 0.8624071368144919, 0.7161532197241738, 0.7042985975235805, 0.7084409390199886, 0.7049272349732237, 0.7006453021278789, 0.4667689495468187, 0.6963938084360306, 0.6989873862308189, 0.4668341993258043, 0.34470761271799844, 0.34470761271799844, 0.7049238348568423, 0.6989803095389724, 0.6612454474802564, 0.44083029832017095, 0.2828662175604545, 0.2828662175604545, 0.2828662175604545, 0.7010487780306796, 0.4676931092001814, 0.4676931092001814, 0.2338465546000907, 0.23570197695331602, 0.23570197695331602, 0.47140395390663203, 0.7006475679884822, 0.9381399251588728, 0.3391154614740668, 0.11303848715802225, 0.2260769743160445, 0.2260769743160445, 0.7006479137525559, 0.8624190641903358, 0.6963912352432318, 0.7084382805930081, 0.3512747812979252, 0.3512747812979252, 0.3044263482485206, 0.1522131741242603, 0.3044263482485206, 0.3044263482485206, 0.1522131741242603, 0.7006390581399619, 0.8624898577142519, 0.6989720666344703, 0.23272375736773734, 0.4654475147354747, 0.23272375736773734, 0.7659467962865999, 0.7006454259502248, 0.5719746109277455, 0.19065820364258185, 0.3813164072851637, 0.6989892316436132, 0.5280360138550473, 0.39602701039128546, 0.4041703935946355, 0.13472346453154516, 0.2694469290630903, 0.13472346453154516, 0.7084364868576339, 0.8624228410754992, 0.2827131565379457, 0.5654263130758914, 0.7006380354596834, 0.70104683216069, 0.6964074248372867, 0.6157566876246742, 0.15103465922869366, 0.04647220283959805, 0.05809025354949757, 0.07551732961434683, 0.05228122819454781, 0.17656671153885986, 0.17656671153885986, 0.5297001346165796, 0.17656671153885986, 0.2753504974810439, 0.2753504974810439, 0.2753504974810439, 0.24980166029189654, 0.24980166029189654, 0.4996033205837931, 0.1736926495886985, 0.1736926495886985, 0.347385299177397, 0.347385299177397, 0.1736926495886985, 0.7010408410198451, 0.27206986557089413, 0.27206986557089413, 0.13603493278544707, 0.27206986557089413, 0.38772332706465545, 0.19386166353232773, 0.19386166353232773, 0.38772332706465545, 0.3053925156423641, 0.15269625782118204, 0.3053925156423641, 0.3053925156423641, 0.21286827981743472, 0.10643413990871736, 0.3193024197261521, 0.10643413990871736, 0.10643413990871736, 0.35141432810334894, 0.7028286562066979, 0.7006530352402763, 0.20171514165464605, 0.4034302833092921, 0.4034302833092921, 0.7010379141026188, 0.9298408635645415, 0.7006485294874522, 0.6981061481136569, 0.1994588994610448, 0.6565488685264526, 0.1313097737052905, 0.262619547410581, 0.7049167223298933, 0.6963964990587161, 0.474334960427844, 0.8624198942322916, 0.6989752978351126, 0.6963947926387204, 0.7006565088006467, 0.22961342359170445, 0.4592268471834089, 0.22961342359170445, 0.22962941454390265, 0.4592588290878053, 0.22962941454390265, 0.5467539977672878, 0.04556283314727399, 0.18225133258909595, 0.18225133258909595, 0.04556283314727399, 0.6990033630118239, 0.25779017880613453, 0.12889508940306726, 0.12889508940306726, 0.25779017880613453, 0.25779017880613453, 0.27602246510009953, 0.27602246510009953, 0.5520449302001991, 0.6989844037139965, 0.3912622138516538, 0.3912622138516538, 0.1956311069258269, 0.4208783023639034, 0.08417566047278068, 0.252526981418342, 0.16835132094556135, 0.08417566047278068, 0.5698037946755622, 0.2849018973377811, 0.6031181337967058, 0.10965784250849196, 0.10965784250849196, 0.05482892125424598, 0.10965784250849196, 0.6989736923808982, 0.9621993202317146, 0.8623891757765246, 0.8624414660316494, 0.9298557923727683, 0.35024703489442116, 0.7004940697888423, 0.47571757233816786, 0.2345900614252667, 0.4691801228505334, 0.2345900614252667, 0.5769015022074007, 0.15914524198824848, 0.13925208673971742, 0.01989315524853106, 0.03978631049706212, 0.049732888121327645, 0.8624439302143667, 0.6548422313203484, 0.1870977803772424, 0.0935488901886212, 0.5717328438549373, 0.28586642192746864, 0.38903128540927445, 0.38903128540927445, 0.19451564270463723, 0.30465652711829466, 0.15232826355914733, 0.30465652711829466, 0.30465652711829466, 0.15232826355914733, 0.6963973464848986, 0.8624145799917052, 0.9374473782834636, 0.7010452271935967, 0.7002095978797825, 0.35010479893989127, 0.9622501724536014, 0.7006444817977138, 0.2560928731652247, 0.08536429105507491, 0.34145716422029965, 0.17072858211014982, 0.08536429105507491, 0.08536429105507491, 0.708442679237214, 0.7084358887968033, 0.3511319886190559, 0.3511319886190559, 0.7010471030861117, 0.344775436636131, 0.344775436636131, 0.344775436636131, 0.7006482792882289, 0.6964122952867263, 0.7659906738560909, 0.6473508341266866, 0.6989783196898679, 0.7006614791668553, 0.7010513883190259, 0.8624880966428078, 0.4757140098140815, 0.6990103783408131, 0.757347160858066, 0.10819245155115229, 0.10819245155115229, 0.10819245155115229, 0.9622628752389113, 0.4668122715538624, 0.6124144857184229, 0.14132641978117452, 0.09421761318744969, 0.09421761318744969, 0.09421761318744969, 0.34469847176204216, 0.34469847176204216, 0.9621965607713548, 0.7006644248274203, 0.6484264624885877, 0.21614215416286256, 0.4757089530085732, 0.34139441275619437, 0.34139441275619437, 0.7010591724481151, 0.696401383206789, 0.6470573721541988, 0.6964123142024867, 0.700639179423663, 0.33914171194389736, 0.33914171194389736, 0.7049251150051251, 0.27688292704016426, 0.5537658540803285, 0.27688292704016426, 0.7049178633530615, 0.8624459876383842, 0.45188334912352984, 0.1506277830411766, 0.1506277830411766, 0.3012555660823532, 0.1506277830411766, 0.701043829448078, 0.8612933460369772, 0.6989872447880632, 0.7084472967288589, 0.1985982124703731, 0.1985982124703731, 0.5957946374111193, 0.708436447748978, 0.8624258373285714, 0.34197797033969224, 0.34197797033969224, 0.8625000644146233, 0.4668123997647277, 0.4079609711741142, 0.13598699039137138, 0.27197398078274276, 0.27197398078274276, 0.6562300332460418, 0.16405750831151045, 0.7006324267185338, 0.46678779163295986, 0.7010349094873881, 0.7084472756810044, 0.8624080944558716, 0.7006566061421144, 0.7006526752402762, 0.5132322352495665, 0.1026464470499133, 0.1026464470499133, 0.2052928940998266, 0.1026464470499133, 0.7161295605247253, 0.17903239013118133, 0.9298643487623425, 0.6545845349196349, 0.26183381396785393, 0.13091690698392697, 0.698977936635607, 0.2830790344787927, 0.5661580689575854, 0.3561982483366454, 0.3561982483366454, 0.9622068559905593, 0.339022336289318, 0.678044672578636, 0.862441111054654, 0.7010485512630393, 0.7006423360475942, 0.5611058786204135, 0.37407058574694235, 0.7006381140684993, 0.7010428549986196, 0.7010425135192464, 0.7006691077684061, 0.7084452617124997, 0.3902024252349142, 0.1951012126174571, 0.3902024252349142, 0.785503555994343, 0.1428188283626078, 0.0714094141813039, 0.9298591779399613, 0.283554803420426, 0.283554803420426, 0.283554803420426, 0.23444388961702914, 0.4688877792340583, 0.1953969732957085, 0.1953969732957085, 0.1953969732957085, 0.390793946591417, 0.23112827925529641, 0.23112827925529641, 0.46225655851059283, 0.27602893874902534, 0.27602893874902534, 0.5520578774980507, 0.6963979677506875, 0.7006514398064486, 0.6964122238010951, 0.622031808491709, 0.06911464538796767, 0.06911464538796767, 0.20734393616390304, 0.06911464538796767, 0.34142941770223595, 0.17071470885111797, 0.17071470885111797, 0.34142941770223595, 0.24972342499174627, 0.12486171249587313, 0.12486171249587313, 0.24972342499174627, 0.12486171249587313, 0.6963953389543693, 0.2294827351535919, 0.2294827351535919, 0.4589654703071838, 0.2294827351535919, 0.28066004593020566, 0.5613200918604113, 0.6963948519854591, 0.6963931358309832, 0.8624632484642069, 0.9298505544818455, 0.46672393213264085, 0.7006320489033605, 0.197820328493264, 0.395640656986528, 0.197820328493264, 0.6989804701806707, 0.7084341177506664, 0.45120139119313596, 0.15040046373104532, 0.30080092746209064, 0.30080092746209064, 0.9344516840240451, 0.6989784778507347, 0.6989860606208712, 0.6963946123754392, 0.9344574048564154, 0.7006480705455546, 0.7006442220729527, 0.6989912801875943, 0.6454557692916099, 0.6964114943517192, 0.8216882043333941, 0.10271102554167426, 0.05135551277083713, 0.6963914600051163, 0.21367108168424112, 0.5341777042106028, 0.10683554084212056, 0.698982688420744, 0.6989906284747363, 0.7084415782226023, 0.7010438552114303, 0.30512261642144833, 0.15256130821072417, 0.30512261642144833, 0.15256130821072417, 0.15256130821072417, 0.700634782413165], \"Term\": [\"able\", \"accelerate\", \"act\", \"act\", \"act\", \"additional\", \"admin\", \"administration\", \"affect\", \"affect\", \"allege\", \"allow\", \"already\", \"already\", \"already\", \"already\", \"amusement\", \"analysis\", \"analysis\", \"arroyo\", \"ask\", \"attack\", \"avenue\", \"back\", \"back\", \"back\", \"back\", \"backer\", \"background\", \"bad\", \"bad\", \"bad\", \"balance\", \"beg\", \"begin\", \"benefit\", \"benefit\", \"bet\", \"big\", \"big\", \"big\", \"bill\", \"bill\", \"bill\", \"bill\", \"bill\", \"board\", \"board\", \"board\", \"budget\", \"business\", \"business\", \"business\", \"businessman\", \"buzz\", \"cap\", \"capitalize\", \"card\", \"case\", \"case\", \"case\", \"cause\", \"challenge\", \"challenge\", \"challenge\", \"chief\", \"chief\", \"chief\", \"choice\", \"churn\", \"coco\", \"company\", \"company\", \"company\", \"concerned\", \"continue\", \"continue\", \"contribution\", \"contribution\", \"contribution\", \"contribution\", \"controversial\", \"controversial\", \"controversial\", \"corps\", \"correct\", \"corruption\", \"corruption\", \"couple\", \"court\", \"court\", \"craft\", \"credit\", \"crony\", \"crony\", \"crony\", \"crony\", \"cycle\", \"dangerous\", \"debt\", \"debt\", \"debt\", \"decade\", \"declare\", \"defend\", \"deficit\", \"department\", \"depend\", \"different\", \"digest\", \"diplomat\", \"directly\", \"divide\", \"divide\", \"dividend\", \"document\", \"dof\", \"dof\", \"draw\", \"draw\", \"draw\", \"eat\", \"economic\", \"economic\", \"economic\", \"economist\", \"economist\", \"economist\", \"edition\", \"effect\", \"end\", \"end\", \"end\", \"end\", \"enter\", \"especially\", \"event\", \"eventually\", \"example\", \"example\", \"expect\", \"expect\", \"expect\", \"expect\", \"expect\", \"expert\", \"explain\", \"express\", \"face\", \"face\", \"face\", \"fact\", \"failure\", \"file\", \"file\", \"file\", \"filipino\", \"final\", \"final\", \"finance\", \"finance\", \"finance\", \"finance\", \"fiscal\", \"flag\", \"foreign\", \"foreign\", \"forget\", \"forward\", \"fraudnaten\", \"fund\", \"fund\", \"fund\", \"fund\", \"fund\", \"fund\", \"funding\", \"funding\", \"funding\", \"funding\", \"future\", \"future\", \"future\", \"get\", \"get\", \"get\", \"give\", \"give\", \"give\", \"give\", \"give\", \"global\", \"go\", \"go\", \"go\", \"go\", \"good\", \"good\", \"good\", \"good\", \"government\", \"government\", \"government\", \"government\", \"govt\", \"govt\", \"govt\", \"govt\", \"govt\", \"growth\", \"growth\", \"haha\", \"happen\", \"happen\", \"happen\", \"here\", \"hit\", \"house\", \"implementation\", \"implementation\", \"implementing_rule\", \"implementing_rule\", \"implementing_rule\", \"include\", \"income\", \"info\", \"instability\", \"instead\", \"instinct\", \"institution\", \"interest\", \"interest\", \"interest\", \"invest\", \"invest\", \"invest\", \"investment\", \"investment\", \"investment\", \"investment\", \"investment\", \"ipos\", \"irr\", \"irr\", \"irr\", \"irr\", \"irr\", \"key\", \"key\", \"key\", \"kind\", \"know\", \"know\", \"know\", \"landbank\", \"landbank\", \"landbank\", \"landbank\", \"landbank\", \"last\", \"last\", \"law\", \"law\", \"law\", \"law\", \"law\", \"legally\", \"legislative\", \"let\", \"liquidity\", \"loan\", \"look\", \"look\", \"love\", \"m\", \"m\", \"m\", \"maharlika\", \"maharlika\", \"maharlika\", \"maharlika\", \"maharlika\", \"maharlika\", \"mainly\", \"make\", \"make\", \"make\", \"manage\", \"manage\", \"management\", \"management\", \"management\", \"manager\", \"manager\", \"manager\", \"manager\", \"manager\", \"mandate\", \"many\", \"maybe\", \"mehnot\", \"mention\", \"mention\", \"migrate\", \"minimum\", \"money\", \"money\", \"money\", \"money\", \"money\", \"money\", \"mp\", \"nagooppose\", \"national\", \"national\", \"neutral\", \"new\", \"new\", \"new\", \"news\", \"none\", \"operational\", \"oppose\", \"order\", \"osg\", \"pagibig\", \"past\", \"path\", \"peso\", \"petition\", \"petition\", \"petition\", \"petition\", \"phase\", \"philhealth\", \"philippine\", \"philippine\", \"philippine\", \"philippine\", \"philippine\", \"pimentel\", \"pimentel\", \"plan\", \"point\", \"political\", \"political\", \"poll\", \"power\", \"power\", \"predict\", \"preparation\", \"present\", \"prevent\", \"principle\", \"private\", \"private\", \"privatization\", \"problem\", \"problem\", \"problem\", \"proceed\", \"process\", \"project\", \"project\", \"project\", \"project\", \"project\", \"promote\", \"question\", \"rate\", \"read\", \"ready\", \"ready\", \"ready\", \"recover\", \"red\", \"regulation\", \"regulation\", \"regulatory\", \"reimburse\", \"release\", \"release\", \"release\", \"release\", \"remit\", \"remit\", \"repayment\", \"result\", \"return\", \"revenue\", \"rich\", \"rise\", \"rumor\", \"say\", \"say\", \"say\", \"say\", \"say\", \"scam\", \"scam\", \"secrecy\", \"see\", \"see\", \"see\", \"sell\", \"sentral\", \"sentral\", \"service\", \"service\", \"set\", \"share\", \"share\", \"sheet\", \"shitty\", \"shut\", \"sign\", \"sign\", \"skeptical\", \"skyrocket\", \"slowdown\", \"solgen\", \"soon\", \"source\", \"source\", \"source\", \"sovereign\", \"sovereign\", \"sovereign\", \"speech\", \"start\", \"start\", \"start\", \"steal\", \"steal\", \"stock\", \"stock\", \"stock\", \"stock\", \"study\", \"study\", \"study\", \"success\", \"success\", \"success\", \"suisse\", \"sunstar\", \"surprise\", \"suspend\", \"suspend\", \"suspend\", \"suspend\", \"suspend\", \"suspension\", \"suspension\", \"suspension\", \"suspension\", \"take\", \"take\", \"take\", \"take\", \"take\", \"takeover\", \"tax\", \"tax\", \"tax\", \"tax\", \"taxis\", \"taxis\", \"term\", \"terrible\", \"test\", \"text\", \"therefore\", \"thing\", \"think\", \"think\", \"think\", \"though\", \"tour\", \"transfer\", \"transfer\", \"transfer\", \"transfer\", \"transmission\", \"treasure\", \"tro\", \"unexpected\", \"used\", \"validity\", \"villar\", \"voluntary\", \"want\", \"wasteful\", \"wealth\", \"wealth\", \"wealth\", \"weekly\", \"well\", \"well\", \"well\", \"wonder\", \"work\", \"world\", \"worst\", \"year\", \"year\", \"year\", \"year\", \"year\", \"yield\"]}, \"R\": 30, \"lambda.step\": 0.01, \"plot.opts\": {\"xlab\": \"PC1\", \"ylab\": \"PC2\"}, \"topic.order\": [2, 4, 1, 5, 6, 3]};\n",
              "\n",
              "function LDAvis_load_lib(url, callback){\n",
              "  var s = document.createElement('script');\n",
              "  s.src = url;\n",
              "  s.async = true;\n",
              "  s.onreadystatechange = s.onload = callback;\n",
              "  s.onerror = function(){console.warn(\"failed to load library \" + url);};\n",
              "  document.getElementsByTagName(\"head\")[0].appendChild(s);\n",
              "}\n",
              "\n",
              "if(typeof(LDAvis) !== \"undefined\"){\n",
              "   // already loaded: just create the visualization\n",
              "   !function(LDAvis){\n",
              "       new LDAvis(\"#\" + \"ldavis_el88213648982529116824347813\", ldavis_el88213648982529116824347813_data);\n",
              "   }(LDAvis);\n",
              "}else if(typeof define === \"function\" && define.amd){\n",
              "   // require.js is available: use it to load d3/LDAvis\n",
              "   require.config({paths: {d3: \"https://d3js.org/d3.v5\"}});\n",
              "   require([\"d3\"], function(d3){\n",
              "      window.d3 = d3;\n",
              "      LDAvis_load_lib(\"https://cdn.jsdelivr.net/gh/bmabey/pyLDAvis@3.4.0/pyLDAvis/js/ldavis.v3.0.0.js\", function(){\n",
              "        new LDAvis(\"#\" + \"ldavis_el88213648982529116824347813\", ldavis_el88213648982529116824347813_data);\n",
              "      });\n",
              "    });\n",
              "}else{\n",
              "    // require.js not available: dynamically load d3 & LDAvis\n",
              "    LDAvis_load_lib(\"https://d3js.org/d3.v5.js\", function(){\n",
              "         LDAvis_load_lib(\"https://cdn.jsdelivr.net/gh/bmabey/pyLDAvis@3.4.0/pyLDAvis/js/ldavis.v3.0.0.js\", function(){\n",
              "                 new LDAvis(\"#\" + \"ldavis_el88213648982529116824347813\", ldavis_el88213648982529116824347813_data);\n",
              "            })\n",
              "         });\n",
              "}\n",
              "</script>"
            ]
          },
          "metadata": {},
          "execution_count": 25
        }
      ]
    },
    {
      "cell_type": "code",
      "source": [
        "topic_labels = [\"Legal Implication and Implementation\", \"Investment and Financial Initiatives\", \"Legal Framework and Investment Strategies\",\n",
        "                \"Economic Growth and Development\", \"Legal Petitions and Concerns\", \"Rules and Implementation\"]"
      ],
      "metadata": {
        "colab": {
          "base_uri": "https://localhost:8080/"
        },
        "id": "wdppdkuUC0OB",
        "outputId": "ee0d1ff8-3d57-40d4-e59c-258d7f367947"
      },
      "execution_count": null,
      "outputs": [
        {
          "output_type": "stream",
          "name": "stderr",
          "text": [
            "/usr/local/lib/python3.10/dist-packages/ipykernel/ipkernel.py:283: DeprecationWarning: `should_run_async` will not call `transform_cell` automatically in the future. Please pass the result to `transformed_cell` argument and any exception that happen during thetransform in `preprocessing_exc_tuple` in IPython 7.17 and above.\n",
            "  and should_run_async(code)\n"
          ]
        }
      ]
    },
    {
      "cell_type": "code",
      "source": [
        "# Format and print the LDA results\n",
        "for topic, keywords in model_fin:\n",
        "    keyword_list = keywords.split(' + ')\n",
        "    formatted_keywords = [keyword.split('*')[-1].strip('\"') for keyword in keyword_list]\n",
        "    print(f\"{topic_labels[topic]} -> \", end=\"\")\n",
        "    for i, keyword in enumerate(formatted_keywords):\n",
        "        print(f\"{keyword}, \", end=\"\")\n",
        "    print(\"\\n\")"
      ],
      "metadata": {
        "colab": {
          "base_uri": "https://localhost:8080/"
        },
        "id": "geVHtUwBAqEC",
        "outputId": "24ad8572-a1fc-49ce-c606-8384f0b146ee"
      },
      "execution_count": null,
      "outputs": [
        {
          "output_type": "stream",
          "name": "stdout",
          "text": [
            "Legal Implication and Implementation -> maharlika, fund, investment, money, govt, landbank, final, make, end, already, \n",
            "\n",
            "Investment and Financial Initiatives -> fund, maharlika, wealth, philippine, investment, law, sovereign, suspend, bill, implementation, \n",
            "\n",
            "Legal Framework and Investment Strategies -> fund, maharlika, ready, defend, suspension, bad, economist, board, law, irr, \n",
            "\n",
            "Economic Growth and Development -> fund, maharlika, well, scam, philippine, question, think, wealth, new, bill, \n",
            "\n",
            "Legal Petitions and Concerns -> fund, funding, budget, suspend, sentral, philippine, say, management, proceed, include, \n",
            "\n",
            "Rules and Implementation -> fund, maharlika, get, investment, taxis, steal, affect, government, invest, interest, \n",
            "\n"
          ]
        },
        {
          "output_type": "stream",
          "name": "stderr",
          "text": [
            "/usr/local/lib/python3.10/dist-packages/ipykernel/ipkernel.py:283: DeprecationWarning: `should_run_async` will not call `transform_cell` automatically in the future. Please pass the result to `transformed_cell` argument and any exception that happen during thetransform in `preprocessing_exc_tuple` in IPython 7.17 and above.\n",
            "  and should_run_async(code)\n"
          ]
        }
      ]
    },
    {
      "cell_type": "markdown",
      "source": [
        "<h2>EVALUATION METRICS"
      ],
      "metadata": {
        "id": "2v34bN-4bdm_"
      }
    },
    {
      "cell_type": "code",
      "source": [
        "# Perplexity\n",
        "# a measure of how good the model is; lower the better.\n",
        "perplexity_lda = optimal_lda_model.log_perplexity(corpus, total_docs=308)\n",
        "print('Perplexity: ', perplexity_lda)\n",
        "\n",
        "# Compute Coherence Score\n",
        "coherence_model_lda = CoherenceModel(model=optimal_lda_model, texts=data_lemmatized, dictionary=id2word, coherence='c_v')\n",
        "coherence_lda = coherence_model_lda.get_coherence()\n",
        "print('Coherence Score: ', coherence_lda)"
      ],
      "metadata": {
        "colab": {
          "base_uri": "https://localhost:8080/"
        },
        "id": "3bt-3SywViYc",
        "outputId": "48dd3c5d-6eb1-4b1b-a9b6-df08c7b88da8"
      },
      "execution_count": null,
      "outputs": [
        {
          "output_type": "stream",
          "name": "stderr",
          "text": [
            "/usr/local/lib/python3.10/dist-packages/ipykernel/ipkernel.py:283: DeprecationWarning: `should_run_async` will not call `transform_cell` automatically in the future. Please pass the result to `transformed_cell` argument and any exception that happen during thetransform in `preprocessing_exc_tuple` in IPython 7.17 and above.\n",
            "  and should_run_async(code)\n"
          ]
        },
        {
          "output_type": "stream",
          "name": "stdout",
          "text": [
            "Perplexity:  -6.903863917072506\n",
            "Coherence Score:  0.5416496101395444\n"
          ]
        }
      ]
    },
    {
      "cell_type": "markdown",
      "source": [
        "https://youtu.be/nNvPvvuPnGs?si=OP1aLc1-S8vv5pN8"
      ],
      "metadata": {
        "id": "m2ir1_6rAdU0"
      }
    },
    {
      "cell_type": "markdown",
      "source": [
        "<h2>LABELING"
      ],
      "metadata": {
        "id": "ccXsB0EZ-O7B"
      }
    },
    {
      "cell_type": "code",
      "source": [
        "# Assign topics to documents and label the documents\n",
        "document_labels = []\n",
        "for i, doc in enumerate(data_lemmatized):\n",
        "    topics = optimal_lda_model.get_document_topics(corpus[i])\n",
        "    topics = sorted(topics, key=lambda x: x[1], reverse=True)\n",
        "    topic_id, topic_prob = topics[0]\n",
        "\n",
        "    # Assign labels based on topic IDs\n",
        "    label = topic_labels[topic_id]\n",
        "\n",
        "    document_labels.append(label)\n",
        "\n",
        "document_labels"
      ],
      "metadata": {
        "colab": {
          "base_uri": "https://localhost:8080/"
        },
        "id": "Wrgyo_oE-S7u",
        "outputId": "1e8801bf-7ef7-445d-ba1a-2647c0c47277"
      },
      "execution_count": null,
      "outputs": [
        {
          "output_type": "stream",
          "name": "stderr",
          "text": [
            "/usr/local/lib/python3.10/dist-packages/ipykernel/ipkernel.py:283: DeprecationWarning: `should_run_async` will not call `transform_cell` automatically in the future. Please pass the result to `transformed_cell` argument and any exception that happen during thetransform in `preprocessing_exc_tuple` in IPython 7.17 and above.\n",
            "  and should_run_async(code)\n"
          ]
        },
        {
          "output_type": "execute_result",
          "data": {
            "text/plain": [
              "['Investment and Financial Initiatives',\n",
              " 'Legal Petitions and Concerns',\n",
              " 'Investment and Financial Initiatives',\n",
              " 'Legal Petitions and Concerns',\n",
              " 'Legal Petitions and Concerns',\n",
              " 'Investment and Financial Initiatives',\n",
              " 'Investment and Financial Initiatives',\n",
              " 'Rules and Implementation',\n",
              " 'Investment and Financial Initiatives',\n",
              " 'Investment and Financial Initiatives',\n",
              " 'Investment and Financial Initiatives',\n",
              " 'Investment and Financial Initiatives',\n",
              " 'Investment and Financial Initiatives',\n",
              " 'Legal Petitions and Concerns',\n",
              " 'Legal Implication and Implementation',\n",
              " 'Investment and Financial Initiatives',\n",
              " 'Legal Framework and Investment Strategies',\n",
              " 'Investment and Financial Initiatives',\n",
              " 'Investment and Financial Initiatives',\n",
              " 'Investment and Financial Initiatives',\n",
              " 'Legal Framework and Investment Strategies',\n",
              " 'Legal Implication and Implementation',\n",
              " 'Investment and Financial Initiatives',\n",
              " 'Legal Implication and Implementation',\n",
              " 'Legal Framework and Investment Strategies',\n",
              " 'Investment and Financial Initiatives',\n",
              " 'Investment and Financial Initiatives',\n",
              " 'Legal Framework and Investment Strategies',\n",
              " 'Legal Framework and Investment Strategies',\n",
              " 'Investment and Financial Initiatives',\n",
              " 'Investment and Financial Initiatives',\n",
              " 'Legal Implication and Implementation',\n",
              " 'Legal Petitions and Concerns',\n",
              " 'Investment and Financial Initiatives',\n",
              " 'Economic Growth and Development',\n",
              " 'Legal Implication and Implementation',\n",
              " 'Economic Growth and Development',\n",
              " 'Economic Growth and Development',\n",
              " 'Economic Growth and Development',\n",
              " 'Investment and Financial Initiatives',\n",
              " 'Economic Growth and Development',\n",
              " 'Economic Growth and Development',\n",
              " 'Investment and Financial Initiatives',\n",
              " 'Legal Framework and Investment Strategies',\n",
              " 'Rules and Implementation',\n",
              " 'Economic Growth and Development',\n",
              " 'Investment and Financial Initiatives',\n",
              " 'Investment and Financial Initiatives',\n",
              " 'Investment and Financial Initiatives',\n",
              " 'Investment and Financial Initiatives',\n",
              " 'Investment and Financial Initiatives',\n",
              " 'Legal Framework and Investment Strategies',\n",
              " 'Investment and Financial Initiatives',\n",
              " 'Investment and Financial Initiatives',\n",
              " 'Investment and Financial Initiatives',\n",
              " 'Economic Growth and Development',\n",
              " 'Investment and Financial Initiatives',\n",
              " 'Investment and Financial Initiatives',\n",
              " 'Investment and Financial Initiatives',\n",
              " 'Investment and Financial Initiatives',\n",
              " 'Investment and Financial Initiatives',\n",
              " 'Economic Growth and Development',\n",
              " 'Investment and Financial Initiatives',\n",
              " 'Rules and Implementation',\n",
              " 'Economic Growth and Development',\n",
              " 'Economic Growth and Development',\n",
              " 'Investment and Financial Initiatives',\n",
              " 'Investment and Financial Initiatives',\n",
              " 'Investment and Financial Initiatives',\n",
              " 'Economic Growth and Development',\n",
              " 'Investment and Financial Initiatives',\n",
              " 'Economic Growth and Development',\n",
              " 'Economic Growth and Development',\n",
              " 'Investment and Financial Initiatives',\n",
              " 'Investment and Financial Initiatives',\n",
              " 'Investment and Financial Initiatives',\n",
              " 'Rules and Implementation',\n",
              " 'Investment and Financial Initiatives',\n",
              " 'Investment and Financial Initiatives',\n",
              " 'Investment and Financial Initiatives',\n",
              " 'Investment and Financial Initiatives',\n",
              " 'Investment and Financial Initiatives',\n",
              " 'Investment and Financial Initiatives',\n",
              " 'Legal Petitions and Concerns',\n",
              " 'Economic Growth and Development',\n",
              " 'Legal Framework and Investment Strategies',\n",
              " 'Investment and Financial Initiatives',\n",
              " 'Economic Growth and Development',\n",
              " 'Legal Framework and Investment Strategies',\n",
              " 'Rules and Implementation',\n",
              " 'Investment and Financial Initiatives',\n",
              " 'Investment and Financial Initiatives',\n",
              " 'Investment and Financial Initiatives',\n",
              " 'Legal Framework and Investment Strategies',\n",
              " 'Rules and Implementation',\n",
              " 'Economic Growth and Development',\n",
              " 'Legal Implication and Implementation',\n",
              " 'Investment and Financial Initiatives',\n",
              " 'Economic Growth and Development',\n",
              " 'Legal Implication and Implementation',\n",
              " 'Economic Growth and Development',\n",
              " 'Investment and Financial Initiatives',\n",
              " 'Investment and Financial Initiatives',\n",
              " 'Economic Growth and Development',\n",
              " 'Investment and Financial Initiatives',\n",
              " 'Rules and Implementation',\n",
              " 'Investment and Financial Initiatives',\n",
              " 'Investment and Financial Initiatives',\n",
              " 'Investment and Financial Initiatives',\n",
              " 'Legal Implication and Implementation',\n",
              " 'Investment and Financial Initiatives',\n",
              " 'Legal Petitions and Concerns',\n",
              " 'Economic Growth and Development',\n",
              " 'Economic Growth and Development',\n",
              " 'Economic Growth and Development',\n",
              " 'Legal Framework and Investment Strategies',\n",
              " 'Legal Framework and Investment Strategies',\n",
              " 'Investment and Financial Initiatives',\n",
              " 'Legal Framework and Investment Strategies',\n",
              " 'Legal Framework and Investment Strategies',\n",
              " 'Rules and Implementation',\n",
              " 'Rules and Implementation',\n",
              " 'Economic Growth and Development',\n",
              " 'Rules and Implementation',\n",
              " 'Investment and Financial Initiatives',\n",
              " 'Investment and Financial Initiatives',\n",
              " 'Investment and Financial Initiatives',\n",
              " 'Investment and Financial Initiatives',\n",
              " 'Rules and Implementation',\n",
              " 'Rules and Implementation',\n",
              " 'Investment and Financial Initiatives',\n",
              " 'Investment and Financial Initiatives',\n",
              " 'Investment and Financial Initiatives',\n",
              " 'Investment and Financial Initiatives',\n",
              " 'Economic Growth and Development',\n",
              " 'Investment and Financial Initiatives',\n",
              " 'Investment and Financial Initiatives',\n",
              " 'Investment and Financial Initiatives',\n",
              " 'Legal Implication and Implementation',\n",
              " 'Legal Implication and Implementation',\n",
              " 'Investment and Financial Initiatives',\n",
              " 'Legal Implication and Implementation',\n",
              " 'Investment and Financial Initiatives',\n",
              " 'Legal Implication and Implementation',\n",
              " 'Legal Petitions and Concerns',\n",
              " 'Economic Growth and Development',\n",
              " 'Investment and Financial Initiatives',\n",
              " 'Investment and Financial Initiatives',\n",
              " 'Legal Petitions and Concerns',\n",
              " 'Legal Implication and Implementation',\n",
              " 'Investment and Financial Initiatives',\n",
              " 'Investment and Financial Initiatives',\n",
              " 'Investment and Financial Initiatives',\n",
              " 'Investment and Financial Initiatives',\n",
              " 'Rules and Implementation',\n",
              " 'Investment and Financial Initiatives',\n",
              " 'Investment and Financial Initiatives',\n",
              " 'Investment and Financial Initiatives',\n",
              " 'Rules and Implementation',\n",
              " 'Investment and Financial Initiatives',\n",
              " 'Rules and Implementation',\n",
              " 'Investment and Financial Initiatives',\n",
              " 'Investment and Financial Initiatives',\n",
              " 'Legal Implication and Implementation',\n",
              " 'Rules and Implementation',\n",
              " 'Investment and Financial Initiatives',\n",
              " 'Investment and Financial Initiatives',\n",
              " 'Economic Growth and Development',\n",
              " 'Legal Implication and Implementation',\n",
              " 'Legal Implication and Implementation',\n",
              " 'Economic Growth and Development',\n",
              " 'Legal Implication and Implementation',\n",
              " 'Investment and Financial Initiatives',\n",
              " 'Investment and Financial Initiatives',\n",
              " 'Investment and Financial Initiatives',\n",
              " 'Investment and Financial Initiatives',\n",
              " 'Investment and Financial Initiatives',\n",
              " 'Investment and Financial Initiatives',\n",
              " 'Economic Growth and Development',\n",
              " 'Economic Growth and Development',\n",
              " 'Economic Growth and Development',\n",
              " 'Legal Petitions and Concerns',\n",
              " 'Investment and Financial Initiatives',\n",
              " 'Economic Growth and Development',\n",
              " 'Legal Framework and Investment Strategies',\n",
              " 'Legal Implication and Implementation',\n",
              " 'Investment and Financial Initiatives',\n",
              " 'Investment and Financial Initiatives',\n",
              " 'Rules and Implementation',\n",
              " 'Economic Growth and Development',\n",
              " 'Investment and Financial Initiatives',\n",
              " 'Investment and Financial Initiatives',\n",
              " 'Investment and Financial Initiatives',\n",
              " 'Investment and Financial Initiatives',\n",
              " 'Investment and Financial Initiatives',\n",
              " 'Rules and Implementation',\n",
              " 'Investment and Financial Initiatives',\n",
              " 'Legal Implication and Implementation',\n",
              " 'Investment and Financial Initiatives',\n",
              " 'Investment and Financial Initiatives',\n",
              " 'Legal Implication and Implementation',\n",
              " 'Economic Growth and Development',\n",
              " 'Investment and Financial Initiatives',\n",
              " 'Investment and Financial Initiatives',\n",
              " 'Investment and Financial Initiatives',\n",
              " 'Legal Implication and Implementation',\n",
              " 'Investment and Financial Initiatives',\n",
              " 'Legal Implication and Implementation',\n",
              " 'Investment and Financial Initiatives',\n",
              " 'Legal Implication and Implementation',\n",
              " 'Rules and Implementation',\n",
              " 'Economic Growth and Development',\n",
              " 'Legal Petitions and Concerns',\n",
              " 'Legal Implication and Implementation',\n",
              " 'Investment and Financial Initiatives',\n",
              " 'Economic Growth and Development',\n",
              " 'Investment and Financial Initiatives',\n",
              " 'Legal Implication and Implementation',\n",
              " 'Investment and Financial Initiatives',\n",
              " 'Economic Growth and Development',\n",
              " 'Investment and Financial Initiatives',\n",
              " 'Legal Implication and Implementation',\n",
              " 'Investment and Financial Initiatives',\n",
              " 'Investment and Financial Initiatives',\n",
              " 'Legal Petitions and Concerns',\n",
              " 'Investment and Financial Initiatives',\n",
              " 'Investment and Financial Initiatives',\n",
              " 'Investment and Financial Initiatives',\n",
              " 'Legal Framework and Investment Strategies',\n",
              " 'Investment and Financial Initiatives',\n",
              " 'Investment and Financial Initiatives',\n",
              " 'Investment and Financial Initiatives',\n",
              " 'Rules and Implementation',\n",
              " 'Investment and Financial Initiatives',\n",
              " 'Investment and Financial Initiatives',\n",
              " 'Investment and Financial Initiatives',\n",
              " 'Legal Petitions and Concerns',\n",
              " 'Investment and Financial Initiatives',\n",
              " 'Legal Petitions and Concerns',\n",
              " 'Legal Implication and Implementation',\n",
              " 'Investment and Financial Initiatives',\n",
              " 'Legal Framework and Investment Strategies',\n",
              " 'Rules and Implementation',\n",
              " 'Investment and Financial Initiatives',\n",
              " 'Economic Growth and Development',\n",
              " 'Investment and Financial Initiatives',\n",
              " 'Legal Petitions and Concerns',\n",
              " 'Investment and Financial Initiatives',\n",
              " 'Economic Growth and Development',\n",
              " 'Legal Petitions and Concerns',\n",
              " 'Investment and Financial Initiatives',\n",
              " 'Economic Growth and Development',\n",
              " 'Investment and Financial Initiatives',\n",
              " 'Rules and Implementation',\n",
              " 'Rules and Implementation',\n",
              " 'Investment and Financial Initiatives',\n",
              " 'Legal Implication and Implementation',\n",
              " 'Investment and Financial Initiatives',\n",
              " 'Investment and Financial Initiatives',\n",
              " 'Legal Framework and Investment Strategies',\n",
              " 'Investment and Financial Initiatives',\n",
              " 'Economic Growth and Development',\n",
              " 'Economic Growth and Development',\n",
              " 'Investment and Financial Initiatives',\n",
              " 'Legal Implication and Implementation',\n",
              " 'Legal Framework and Investment Strategies',\n",
              " 'Investment and Financial Initiatives',\n",
              " 'Economic Growth and Development',\n",
              " 'Investment and Financial Initiatives',\n",
              " 'Economic Growth and Development',\n",
              " 'Investment and Financial Initiatives',\n",
              " 'Investment and Financial Initiatives',\n",
              " 'Economic Growth and Development',\n",
              " 'Legal Framework and Investment Strategies',\n",
              " 'Economic Growth and Development',\n",
              " 'Economic Growth and Development',\n",
              " 'Legal Implication and Implementation',\n",
              " 'Investment and Financial Initiatives',\n",
              " 'Rules and Implementation',\n",
              " 'Investment and Financial Initiatives',\n",
              " 'Legal Implication and Implementation',\n",
              " 'Investment and Financial Initiatives',\n",
              " 'Rules and Implementation',\n",
              " 'Legal Framework and Investment Strategies',\n",
              " 'Legal Framework and Investment Strategies',\n",
              " 'Legal Petitions and Concerns',\n",
              " 'Legal Petitions and Concerns',\n",
              " 'Economic Growth and Development',\n",
              " 'Economic Growth and Development',\n",
              " 'Legal Petitions and Concerns',\n",
              " 'Investment and Financial Initiatives',\n",
              " 'Legal Framework and Investment Strategies',\n",
              " 'Legal Implication and Implementation',\n",
              " 'Legal Petitions and Concerns',\n",
              " 'Legal Petitions and Concerns',\n",
              " 'Rules and Implementation',\n",
              " 'Investment and Financial Initiatives',\n",
              " 'Investment and Financial Initiatives',\n",
              " 'Legal Implication and Implementation',\n",
              " 'Legal Framework and Investment Strategies',\n",
              " 'Economic Growth and Development',\n",
              " 'Legal Petitions and Concerns',\n",
              " 'Economic Growth and Development',\n",
              " 'Investment and Financial Initiatives',\n",
              " 'Investment and Financial Initiatives',\n",
              " 'Legal Framework and Investment Strategies',\n",
              " 'Investment and Financial Initiatives',\n",
              " 'Legal Implication and Implementation',\n",
              " 'Legal Framework and Investment Strategies',\n",
              " 'Legal Framework and Investment Strategies',\n",
              " 'Legal Petitions and Concerns',\n",
              " 'Rules and Implementation',\n",
              " 'Legal Framework and Investment Strategies',\n",
              " 'Economic Growth and Development',\n",
              " 'Legal Framework and Investment Strategies',\n",
              " 'Legal Petitions and Concerns',\n",
              " 'Legal Implication and Implementation',\n",
              " 'Legal Petitions and Concerns',\n",
              " 'Economic Growth and Development',\n",
              " 'Legal Petitions and Concerns',\n",
              " 'Rules and Implementation',\n",
              " 'Economic Growth and Development',\n",
              " 'Investment and Financial Initiatives',\n",
              " 'Economic Growth and Development',\n",
              " 'Legal Petitions and Concerns',\n",
              " 'Investment and Financial Initiatives',\n",
              " 'Rules and Implementation',\n",
              " 'Economic Growth and Development',\n",
              " 'Legal Implication and Implementation',\n",
              " 'Investment and Financial Initiatives',\n",
              " 'Rules and Implementation',\n",
              " 'Investment and Financial Initiatives',\n",
              " 'Legal Implication and Implementation',\n",
              " 'Economic Growth and Development',\n",
              " 'Economic Growth and Development',\n",
              " 'Legal Petitions and Concerns',\n",
              " 'Legal Petitions and Concerns',\n",
              " 'Investment and Financial Initiatives',\n",
              " 'Legal Implication and Implementation',\n",
              " 'Legal Framework and Investment Strategies',\n",
              " 'Legal Petitions and Concerns',\n",
              " 'Investment and Financial Initiatives',\n",
              " 'Investment and Financial Initiatives',\n",
              " 'Legal Framework and Investment Strategies',\n",
              " 'Legal Framework and Investment Strategies',\n",
              " 'Rules and Implementation',\n",
              " 'Investment and Financial Initiatives',\n",
              " 'Legal Implication and Implementation',\n",
              " 'Investment and Financial Initiatives',\n",
              " 'Investment and Financial Initiatives',\n",
              " 'Investment and Financial Initiatives',\n",
              " 'Investment and Financial Initiatives',\n",
              " 'Investment and Financial Initiatives',\n",
              " 'Economic Growth and Development',\n",
              " 'Legal Petitions and Concerns',\n",
              " 'Legal Implication and Implementation',\n",
              " 'Legal Implication and Implementation',\n",
              " 'Legal Implication and Implementation',\n",
              " 'Legal Implication and Implementation',\n",
              " 'Economic Growth and Development',\n",
              " 'Rules and Implementation',\n",
              " 'Economic Growth and Development',\n",
              " 'Legal Implication and Implementation',\n",
              " 'Legal Implication and Implementation',\n",
              " 'Investment and Financial Initiatives',\n",
              " 'Legal Framework and Investment Strategies',\n",
              " 'Legal Petitions and Concerns',\n",
              " 'Investment and Financial Initiatives',\n",
              " 'Legal Petitions and Concerns',\n",
              " 'Legal Petitions and Concerns',\n",
              " 'Legal Implication and Implementation',\n",
              " 'Economic Growth and Development',\n",
              " 'Investment and Financial Initiatives',\n",
              " 'Legal Implication and Implementation',\n",
              " 'Legal Implication and Implementation',\n",
              " 'Legal Petitions and Concerns',\n",
              " 'Economic Growth and Development',\n",
              " 'Investment and Financial Initiatives',\n",
              " 'Legal Implication and Implementation',\n",
              " 'Legal Petitions and Concerns',\n",
              " 'Rules and Implementation',\n",
              " 'Legal Implication and Implementation',\n",
              " 'Rules and Implementation',\n",
              " 'Rules and Implementation',\n",
              " 'Investment and Financial Initiatives',\n",
              " 'Economic Growth and Development',\n",
              " 'Legal Petitions and Concerns']"
            ]
          },
          "metadata": {},
          "execution_count": 29
        }
      ]
    },
    {
      "cell_type": "code",
      "source": [
        "df['topic_label'] = document_labels\n",
        "df"
      ],
      "metadata": {
        "colab": {
          "base_uri": "https://localhost:8080/",
          "height": 478
        },
        "id": "_jbb4sJyF1_y",
        "outputId": "c1e3bbcd-821d-42e8-8e39-da3bf5b31faf"
      },
      "execution_count": null,
      "outputs": [
        {
          "output_type": "stream",
          "name": "stderr",
          "text": [
            "/usr/local/lib/python3.10/dist-packages/ipykernel/ipkernel.py:283: DeprecationWarning: `should_run_async` will not call `transform_cell` automatically in the future. Please pass the result to `transformed_cell` argument and any exception that happen during thetransform in `preprocessing_exc_tuple` in IPython 7.17 and above.\n",
            "  and should_run_async(code)\n"
          ]
        },
        {
          "output_type": "execute_result",
          "data": {
            "text/plain": [
              "                                                 Title  \\\n",
              "0    Marcos Suspends Philippine Wealth Fund Pending...   \n",
              "1    Nope, Maharlika fund IRR suspension isnt due t...   \n",
              "2    Marcos Jr. suspends Maharlika Investment Funds...   \n",
              "3    Maharlika fund implementation suspended for fu...   \n",
              "4    Marcos suspends Maharlika fund implementation ...   \n",
              "..                                                 ...   \n",
              "382  It looks like theres something going on again....   \n",
              "383                           we find out its all gone   \n",
              "384  There is a move before Bongbong veto this case...   \n",
              "385     Declare it as unconstitutional, Supreme Court!   \n",
              "386            So did the billions from Landbank go???   \n",
              "\n",
              "                                        text_processed  \\\n",
              "0    marcos suspends philippine wealth fund pending...   \n",
              "1    nope maharlika fund irr suspension isnt due to...   \n",
              "2    marcos jr suspends maharlika investment funds ...   \n",
              "3    maharlika fund implementation suspended for fu...   \n",
              "4    marcos suspends maharlika fund implementation ...   \n",
              "..                                                 ...   \n",
              "382  it looks like theres something going on agains...   \n",
              "383                           we find out its all gone   \n",
              "384  there is a move before bongbong veto this case...   \n",
              "385       declare it as unconstitutional supreme court   \n",
              "386               so did the billions from landbank go   \n",
              "\n",
              "                              topic_label  \n",
              "0    Investment and Financial Initiatives  \n",
              "1            Legal Petitions and Concerns  \n",
              "2    Investment and Financial Initiatives  \n",
              "3            Legal Petitions and Concerns  \n",
              "4            Legal Petitions and Concerns  \n",
              "..                                    ...  \n",
              "382              Rules and Implementation  \n",
              "383              Rules and Implementation  \n",
              "384  Investment and Financial Initiatives  \n",
              "385       Economic Growth and Development  \n",
              "386          Legal Petitions and Concerns  \n",
              "\n",
              "[387 rows x 3 columns]"
            ],
            "text/html": [
              "\n",
              "  <div id=\"df-d4869eaf-29d3-47f0-90d4-aa2c51ce8bd8\" class=\"colab-df-container\">\n",
              "    <div>\n",
              "<style scoped>\n",
              "    .dataframe tbody tr th:only-of-type {\n",
              "        vertical-align: middle;\n",
              "    }\n",
              "\n",
              "    .dataframe tbody tr th {\n",
              "        vertical-align: top;\n",
              "    }\n",
              "\n",
              "    .dataframe thead th {\n",
              "        text-align: right;\n",
              "    }\n",
              "</style>\n",
              "<table border=\"1\" class=\"dataframe\">\n",
              "  <thead>\n",
              "    <tr style=\"text-align: right;\">\n",
              "      <th></th>\n",
              "      <th>Title</th>\n",
              "      <th>text_processed</th>\n",
              "      <th>topic_label</th>\n",
              "    </tr>\n",
              "  </thead>\n",
              "  <tbody>\n",
              "    <tr>\n",
              "      <th>0</th>\n",
              "      <td>Marcos Suspends Philippine Wealth Fund Pending...</td>\n",
              "      <td>marcos suspends philippine wealth fund pending...</td>\n",
              "      <td>Investment and Financial Initiatives</td>\n",
              "    </tr>\n",
              "    <tr>\n",
              "      <th>1</th>\n",
              "      <td>Nope, Maharlika fund IRR suspension isnt due t...</td>\n",
              "      <td>nope maharlika fund irr suspension isnt due to...</td>\n",
              "      <td>Legal Petitions and Concerns</td>\n",
              "    </tr>\n",
              "    <tr>\n",
              "      <th>2</th>\n",
              "      <td>Marcos Jr. suspends Maharlika Investment Funds...</td>\n",
              "      <td>marcos jr suspends maharlika investment funds ...</td>\n",
              "      <td>Investment and Financial Initiatives</td>\n",
              "    </tr>\n",
              "    <tr>\n",
              "      <th>3</th>\n",
              "      <td>Maharlika fund implementation suspended for fu...</td>\n",
              "      <td>maharlika fund implementation suspended for fu...</td>\n",
              "      <td>Legal Petitions and Concerns</td>\n",
              "    </tr>\n",
              "    <tr>\n",
              "      <th>4</th>\n",
              "      <td>Marcos suspends Maharlika fund implementation ...</td>\n",
              "      <td>marcos suspends maharlika fund implementation ...</td>\n",
              "      <td>Legal Petitions and Concerns</td>\n",
              "    </tr>\n",
              "    <tr>\n",
              "      <th>...</th>\n",
              "      <td>...</td>\n",
              "      <td>...</td>\n",
              "      <td>...</td>\n",
              "    </tr>\n",
              "    <tr>\n",
              "      <th>382</th>\n",
              "      <td>It looks like theres something going on again....</td>\n",
              "      <td>it looks like theres something going on agains...</td>\n",
              "      <td>Rules and Implementation</td>\n",
              "    </tr>\n",
              "    <tr>\n",
              "      <th>383</th>\n",
              "      <td>we find out its all gone</td>\n",
              "      <td>we find out its all gone</td>\n",
              "      <td>Rules and Implementation</td>\n",
              "    </tr>\n",
              "    <tr>\n",
              "      <th>384</th>\n",
              "      <td>There is a move before Bongbong veto this case...</td>\n",
              "      <td>there is a move before bongbong veto this case...</td>\n",
              "      <td>Investment and Financial Initiatives</td>\n",
              "    </tr>\n",
              "    <tr>\n",
              "      <th>385</th>\n",
              "      <td>Declare it as unconstitutional, Supreme Court!</td>\n",
              "      <td>declare it as unconstitutional supreme court</td>\n",
              "      <td>Economic Growth and Development</td>\n",
              "    </tr>\n",
              "    <tr>\n",
              "      <th>386</th>\n",
              "      <td>So did the billions from Landbank go???</td>\n",
              "      <td>so did the billions from landbank go</td>\n",
              "      <td>Legal Petitions and Concerns</td>\n",
              "    </tr>\n",
              "  </tbody>\n",
              "</table>\n",
              "<p>387 rows × 3 columns</p>\n",
              "</div>\n",
              "    <div class=\"colab-df-buttons\">\n",
              "\n",
              "  <div class=\"colab-df-container\">\n",
              "    <button class=\"colab-df-convert\" onclick=\"convertToInteractive('df-d4869eaf-29d3-47f0-90d4-aa2c51ce8bd8')\"\n",
              "            title=\"Convert this dataframe to an interactive table.\"\n",
              "            style=\"display:none;\">\n",
              "\n",
              "  <svg xmlns=\"http://www.w3.org/2000/svg\" height=\"24px\" viewBox=\"0 -960 960 960\">\n",
              "    <path d=\"M120-120v-720h720v720H120Zm60-500h600v-160H180v160Zm220 220h160v-160H400v160Zm0 220h160v-160H400v160ZM180-400h160v-160H180v160Zm440 0h160v-160H620v160ZM180-180h160v-160H180v160Zm440 0h160v-160H620v160Z\"/>\n",
              "  </svg>\n",
              "    </button>\n",
              "\n",
              "  <style>\n",
              "    .colab-df-container {\n",
              "      display:flex;\n",
              "      gap: 12px;\n",
              "    }\n",
              "\n",
              "    .colab-df-convert {\n",
              "      background-color: #E8F0FE;\n",
              "      border: none;\n",
              "      border-radius: 50%;\n",
              "      cursor: pointer;\n",
              "      display: none;\n",
              "      fill: #1967D2;\n",
              "      height: 32px;\n",
              "      padding: 0 0 0 0;\n",
              "      width: 32px;\n",
              "    }\n",
              "\n",
              "    .colab-df-convert:hover {\n",
              "      background-color: #E2EBFA;\n",
              "      box-shadow: 0px 1px 2px rgba(60, 64, 67, 0.3), 0px 1px 3px 1px rgba(60, 64, 67, 0.15);\n",
              "      fill: #174EA6;\n",
              "    }\n",
              "\n",
              "    .colab-df-buttons div {\n",
              "      margin-bottom: 4px;\n",
              "    }\n",
              "\n",
              "    [theme=dark] .colab-df-convert {\n",
              "      background-color: #3B4455;\n",
              "      fill: #D2E3FC;\n",
              "    }\n",
              "\n",
              "    [theme=dark] .colab-df-convert:hover {\n",
              "      background-color: #434B5C;\n",
              "      box-shadow: 0px 1px 3px 1px rgba(0, 0, 0, 0.15);\n",
              "      filter: drop-shadow(0px 1px 2px rgba(0, 0, 0, 0.3));\n",
              "      fill: #FFFFFF;\n",
              "    }\n",
              "  </style>\n",
              "\n",
              "    <script>\n",
              "      const buttonEl =\n",
              "        document.querySelector('#df-d4869eaf-29d3-47f0-90d4-aa2c51ce8bd8 button.colab-df-convert');\n",
              "      buttonEl.style.display =\n",
              "        google.colab.kernel.accessAllowed ? 'block' : 'none';\n",
              "\n",
              "      async function convertToInteractive(key) {\n",
              "        const element = document.querySelector('#df-d4869eaf-29d3-47f0-90d4-aa2c51ce8bd8');\n",
              "        const dataTable =\n",
              "          await google.colab.kernel.invokeFunction('convertToInteractive',\n",
              "                                                    [key], {});\n",
              "        if (!dataTable) return;\n",
              "\n",
              "        const docLinkHtml = 'Like what you see? Visit the ' +\n",
              "          '<a target=\"_blank\" href=https://colab.research.google.com/notebooks/data_table.ipynb>data table notebook</a>'\n",
              "          + ' to learn more about interactive tables.';\n",
              "        element.innerHTML = '';\n",
              "        dataTable['output_type'] = 'display_data';\n",
              "        await google.colab.output.renderOutput(dataTable, element);\n",
              "        const docLink = document.createElement('div');\n",
              "        docLink.innerHTML = docLinkHtml;\n",
              "        element.appendChild(docLink);\n",
              "      }\n",
              "    </script>\n",
              "  </div>\n",
              "\n",
              "\n",
              "<div id=\"df-f8e8fa3b-b197-4ed8-8771-d89976de0b41\">\n",
              "  <button class=\"colab-df-quickchart\" onclick=\"quickchart('df-f8e8fa3b-b197-4ed8-8771-d89976de0b41')\"\n",
              "            title=\"Suggest charts.\"\n",
              "            style=\"display:none;\">\n",
              "\n",
              "<svg xmlns=\"http://www.w3.org/2000/svg\" height=\"24px\"viewBox=\"0 0 24 24\"\n",
              "     width=\"24px\">\n",
              "    <g>\n",
              "        <path d=\"M19 3H5c-1.1 0-2 .9-2 2v14c0 1.1.9 2 2 2h14c1.1 0 2-.9 2-2V5c0-1.1-.9-2-2-2zM9 17H7v-7h2v7zm4 0h-2V7h2v10zm4 0h-2v-4h2v4z\"/>\n",
              "    </g>\n",
              "</svg>\n",
              "  </button>\n",
              "\n",
              "<style>\n",
              "  .colab-df-quickchart {\n",
              "      --bg-color: #E8F0FE;\n",
              "      --fill-color: #1967D2;\n",
              "      --hover-bg-color: #E2EBFA;\n",
              "      --hover-fill-color: #174EA6;\n",
              "      --disabled-fill-color: #AAA;\n",
              "      --disabled-bg-color: #DDD;\n",
              "  }\n",
              "\n",
              "  [theme=dark] .colab-df-quickchart {\n",
              "      --bg-color: #3B4455;\n",
              "      --fill-color: #D2E3FC;\n",
              "      --hover-bg-color: #434B5C;\n",
              "      --hover-fill-color: #FFFFFF;\n",
              "      --disabled-bg-color: #3B4455;\n",
              "      --disabled-fill-color: #666;\n",
              "  }\n",
              "\n",
              "  .colab-df-quickchart {\n",
              "    background-color: var(--bg-color);\n",
              "    border: none;\n",
              "    border-radius: 50%;\n",
              "    cursor: pointer;\n",
              "    display: none;\n",
              "    fill: var(--fill-color);\n",
              "    height: 32px;\n",
              "    padding: 0;\n",
              "    width: 32px;\n",
              "  }\n",
              "\n",
              "  .colab-df-quickchart:hover {\n",
              "    background-color: var(--hover-bg-color);\n",
              "    box-shadow: 0 1px 2px rgba(60, 64, 67, 0.3), 0 1px 3px 1px rgba(60, 64, 67, 0.15);\n",
              "    fill: var(--button-hover-fill-color);\n",
              "  }\n",
              "\n",
              "  .colab-df-quickchart-complete:disabled,\n",
              "  .colab-df-quickchart-complete:disabled:hover {\n",
              "    background-color: var(--disabled-bg-color);\n",
              "    fill: var(--disabled-fill-color);\n",
              "    box-shadow: none;\n",
              "  }\n",
              "\n",
              "  .colab-df-spinner {\n",
              "    border: 2px solid var(--fill-color);\n",
              "    border-color: transparent;\n",
              "    border-bottom-color: var(--fill-color);\n",
              "    animation:\n",
              "      spin 1s steps(1) infinite;\n",
              "  }\n",
              "\n",
              "  @keyframes spin {\n",
              "    0% {\n",
              "      border-color: transparent;\n",
              "      border-bottom-color: var(--fill-color);\n",
              "      border-left-color: var(--fill-color);\n",
              "    }\n",
              "    20% {\n",
              "      border-color: transparent;\n",
              "      border-left-color: var(--fill-color);\n",
              "      border-top-color: var(--fill-color);\n",
              "    }\n",
              "    30% {\n",
              "      border-color: transparent;\n",
              "      border-left-color: var(--fill-color);\n",
              "      border-top-color: var(--fill-color);\n",
              "      border-right-color: var(--fill-color);\n",
              "    }\n",
              "    40% {\n",
              "      border-color: transparent;\n",
              "      border-right-color: var(--fill-color);\n",
              "      border-top-color: var(--fill-color);\n",
              "    }\n",
              "    60% {\n",
              "      border-color: transparent;\n",
              "      border-right-color: var(--fill-color);\n",
              "    }\n",
              "    80% {\n",
              "      border-color: transparent;\n",
              "      border-right-color: var(--fill-color);\n",
              "      border-bottom-color: var(--fill-color);\n",
              "    }\n",
              "    90% {\n",
              "      border-color: transparent;\n",
              "      border-bottom-color: var(--fill-color);\n",
              "    }\n",
              "  }\n",
              "</style>\n",
              "\n",
              "  <script>\n",
              "    async function quickchart(key) {\n",
              "      const quickchartButtonEl =\n",
              "        document.querySelector('#' + key + ' button');\n",
              "      quickchartButtonEl.disabled = true;  // To prevent multiple clicks.\n",
              "      quickchartButtonEl.classList.add('colab-df-spinner');\n",
              "      try {\n",
              "        const charts = await google.colab.kernel.invokeFunction(\n",
              "            'suggestCharts', [key], {});\n",
              "      } catch (error) {\n",
              "        console.error('Error during call to suggestCharts:', error);\n",
              "      }\n",
              "      quickchartButtonEl.classList.remove('colab-df-spinner');\n",
              "      quickchartButtonEl.classList.add('colab-df-quickchart-complete');\n",
              "    }\n",
              "    (() => {\n",
              "      let quickchartButtonEl =\n",
              "        document.querySelector('#df-f8e8fa3b-b197-4ed8-8771-d89976de0b41 button');\n",
              "      quickchartButtonEl.style.display =\n",
              "        google.colab.kernel.accessAllowed ? 'block' : 'none';\n",
              "    })();\n",
              "  </script>\n",
              "</div>\n",
              "    </div>\n",
              "  </div>\n"
            ]
          },
          "metadata": {},
          "execution_count": 30
        }
      ]
    },
    {
      "cell_type": "code",
      "source": [
        "from google.colab import files\n",
        "\n",
        "df.to_csv('assigned_topics.csv', index=False)\n",
        "files.download('assigned_topics.csv')"
      ],
      "metadata": {
        "colab": {
          "base_uri": "https://localhost:8080/",
          "height": 72
        },
        "id": "oOCt06Q9HijD",
        "outputId": "e00aa818-232b-435f-8e87-3b6f1b5731b4"
      },
      "execution_count": null,
      "outputs": [
        {
          "output_type": "stream",
          "name": "stderr",
          "text": [
            "/usr/local/lib/python3.10/dist-packages/ipykernel/ipkernel.py:283: DeprecationWarning: `should_run_async` will not call `transform_cell` automatically in the future. Please pass the result to `transformed_cell` argument and any exception that happen during thetransform in `preprocessing_exc_tuple` in IPython 7.17 and above.\n",
            "  and should_run_async(code)\n"
          ]
        },
        {
          "output_type": "display_data",
          "data": {
            "text/plain": [
              "<IPython.core.display.Javascript object>"
            ],
            "application/javascript": [
              "\n",
              "    async function download(id, filename, size) {\n",
              "      if (!google.colab.kernel.accessAllowed) {\n",
              "        return;\n",
              "      }\n",
              "      const div = document.createElement('div');\n",
              "      const label = document.createElement('label');\n",
              "      label.textContent = `Downloading \"${filename}\": `;\n",
              "      div.appendChild(label);\n",
              "      const progress = document.createElement('progress');\n",
              "      progress.max = size;\n",
              "      div.appendChild(progress);\n",
              "      document.body.appendChild(div);\n",
              "\n",
              "      const buffers = [];\n",
              "      let downloaded = 0;\n",
              "\n",
              "      const channel = await google.colab.kernel.comms.open(id);\n",
              "      // Send a message to notify the kernel that we're ready.\n",
              "      channel.send({})\n",
              "\n",
              "      for await (const message of channel.messages) {\n",
              "        // Send a message to notify the kernel that we're ready.\n",
              "        channel.send({})\n",
              "        if (message.buffers) {\n",
              "          for (const buffer of message.buffers) {\n",
              "            buffers.push(buffer);\n",
              "            downloaded += buffer.byteLength;\n",
              "            progress.value = downloaded;\n",
              "          }\n",
              "        }\n",
              "      }\n",
              "      const blob = new Blob(buffers, {type: 'application/binary'});\n",
              "      const a = document.createElement('a');\n",
              "      a.href = window.URL.createObjectURL(blob);\n",
              "      a.download = filename;\n",
              "      div.appendChild(a);\n",
              "      a.click();\n",
              "      div.remove();\n",
              "    }\n",
              "  "
            ]
          },
          "metadata": {}
        },
        {
          "output_type": "display_data",
          "data": {
            "text/plain": [
              "<IPython.core.display.Javascript object>"
            ],
            "application/javascript": [
              "download(\"download_6d096761-ea04-430f-b6a1-2b5578d46d8a\", \"assigned_topics.csv\", 71774)"
            ]
          },
          "metadata": {}
        }
      ]
    }
  ]
}